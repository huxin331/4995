{
  "nbformat": 4,
  "nbformat_minor": 0,
  "metadata": {
    "colab": {
      "name": "part1.ipynb",
      "version": "0.3.2",
      "provenance": [],
      "collapsed_sections": []
    },
    "kernelspec": {
      "name": "python3",
      "display_name": "Python 3"
    }
  },
  "cells": [
    {
      "metadata": {
        "id": "w99wSJGdNh4S",
        "colab_type": "code",
        "colab": {}
      },
      "cell_type": "code",
      "source": [
        "import matplotlib.pyplot as plt\n",
        "import numpy as np\n",
        "import os\n",
        "\n",
        "# The code in this notebook should work identically in TF v1 and v2\n",
        "import tensorflow as tf\n",
        "import zipfile\n",
        "\n",
        "from tensorflow.keras.applications import VGG16, VGG19, ResNet50\n",
        "from tensorflow.keras.layers import Conv2D, Dense, Dropout, Flatten, MaxPooling2D\n",
        "from tensorflow.keras.models import Sequential\n",
        "from tensorflow.keras.preprocessing.image import ImageDataGenerator"
      ],
      "execution_count": 0,
      "outputs": []
    },
    {
      "metadata": {
        "id": "2lGp7jeyNlOH",
        "colab_type": "code",
        "outputId": "33d1048c-ff77-4003-f62e-e49b904884e1",
        "colab": {
          "base_uri": "https://localhost:8080/",
          "height": 34
        }
      },
      "cell_type": "code",
      "source": [
        "!wget https://storage.googleapis.com/applied-dl/mini_flowers.zip \\\n",
        "    -O /tmp/mini_flowers.zip\n"
      ],
      "execution_count": 0,
      "outputs": [
        {
          "output_type": "stream",
          "text": [
            "/Desktop/tmp/mini_flowers.zip: No such file or directory\n"
          ],
          "name": "stdout"
        }
      ]
    },
    {
      "metadata": {
        "id": "7A18aZX2Q1dO",
        "colab_type": "code",
        "outputId": "c73f2b13-988b-4fd7-eb59-a6b279f1c8c1",
        "colab": {
          "base_uri": "https://localhost:8080/",
          "height": 34
        }
      },
      "cell_type": "code",
      "source": [
        "!ls /tmp"
      ],
      "execution_count": 0,
      "outputs": [
        {
          "output_type": "stream",
          "text": [
            "cats_and_dogs_filtered.zip  LICENSE.txt  mini_flowers.zip  train  val\n"
          ],
          "name": "stdout"
        }
      ]
    },
    {
      "metadata": {
        "id": "O1Yo62w2N0dh",
        "colab_type": "code",
        "colab": {}
      },
      "cell_type": "code",
      "source": [
        "local_zip = '/tmp/mini_flowers.zip'\n",
        "zip_ref = zipfile.ZipFile(local_zip, 'r')\n",
        "zip_ref.extractall('/tmp')\n",
        "zip_ref.close()"
      ],
      "execution_count": 0,
      "outputs": []
    },
    {
      "metadata": {
        "id": "hgO5PWN3Q8N4",
        "colab_type": "code",
        "outputId": "723f1b44-9c4f-48dc-bffc-f6ccbf22e46a",
        "colab": {
          "base_uri": "https://localhost:8080/",
          "height": 34
        }
      },
      "cell_type": "code",
      "source": [
        "!ls /tmp"
      ],
      "execution_count": 0,
      "outputs": [
        {
          "output_type": "stream",
          "text": [
            "cats_and_dogs_filtered.zip  LICENSE.txt  mini_flowers.zip  train  val\n"
          ],
          "name": "stdout"
        }
      ]
    },
    {
      "metadata": {
        "id": "hGGZT1HbRBXx",
        "colab_type": "code",
        "outputId": "98261890-5104-4675-ea9e-26ff321268b0",
        "colab": {
          "base_uri": "https://localhost:8080/",
          "height": 34
        }
      },
      "cell_type": "code",
      "source": [
        "!ls /tmp/train\n"
      ],
      "execution_count": 0,
      "outputs": [
        {
          "output_type": "stream",
          "text": [
            "daisy  dandelion  roses  sunflowers  tulips\n"
          ],
          "name": "stdout"
        }
      ]
    },
    {
      "metadata": {
        "id": "kdSZ1gQZKpcT",
        "colab_type": "code",
        "colab": {}
      },
      "cell_type": "code",
      "source": [
        "base_dir = '/tmp'\n",
        "train_dir = os.path.join(base_dir, 'train')\n",
        "validation_dir = os.path.join(base_dir, 'val')\n",
        "\n",
        "train_daisy_dir = os.path.join(train_dir, 'daisy')\n",
        "train_dandelion_dir = os.path.join(train_dir, 'dandelion')\n",
        "train_roses_dir = os.path.join(train_dir, 'roses')\n",
        "train_sunflowers_dir = os.path.join(train_dir, 'sunflowers')\n",
        "train_tulips_dir = os.path.join(train_dir, 'tulips')\n",
        "\n",
        "validation_daisy_dir = os.path.join(validation_dir, 'daisy')\n",
        "validation_dandelion_dir = os.path.join(validation_dir, 'dandelion')\n",
        "validation_roses_dir = os.path.join(validation_dir, 'roses')\n",
        "validation_sunflowers_dir = os.path.join(validation_dir, 'sunflowers')\n",
        "validation_tulips_dir = os.path.join(validation_dir, 'tulips')\n",
        "\n"
      ],
      "execution_count": 0,
      "outputs": []
    },
    {
      "metadata": {
        "id": "GCE2wq7dL-1F",
        "colab_type": "code",
        "colab": {}
      },
      "cell_type": "code",
      "source": [
        "num_daisy_tr = len(os.listdir(train_daisy_dir))\n",
        "num_dandelion_tr = len(os.listdir(train_dandelion_dir))\n",
        "num_roses_tr = len(os.listdir(train_roses_dir))\n",
        "num_sunflowers_tr = len(os.listdir(train_sunflowers_dir))\n",
        "num_tulips_tr = len(os.listdir(train_tulips_dir))\n",
        "\n",
        "num_daisy_val = len(os.listdir(validation_daisy_dir))\n",
        "num_dandelion_val = len(os.listdir(validation_dandelion_dir))\n",
        "num_roses_val = len(os.listdir(validation_roses_dir))\n",
        "num_sunflowers_val = len(os.listdir(validation_sunflowers_dir))\n",
        "num_tulips_val = len(os.listdir(validation_tulips_dir))\n",
        "\n",
        "total_train = num_daisy_tr + num_dandelion_tr + num_roses_tr + num_sunflowers_tr + num_tulips_tr\n",
        "total_val = num_daisy_val + num_dandelion_val + num_roses_val + num_sunflowers_val + num_tulips_val"
      ],
      "execution_count": 0,
      "outputs": []
    },
    {
      "metadata": {
        "id": "jE03nA01RlIf",
        "colab_type": "code",
        "outputId": "5d83145f-ab2e-4b28-8ed4-b900d1bf7b93",
        "colab": {
          "base_uri": "https://localhost:8080/",
          "height": 238
        }
      },
      "cell_type": "code",
      "source": [
        "print('Training daisy images:', num_daisy_tr)\n",
        "print('Training dandelion images:', num_dandelion_tr)\n",
        "print('Training roses images:', num_roses_tr)\n",
        "print('Training sunflowers images:', num_sunflowers_tr)\n",
        "print('Training tulips images:', num_tulips_tr)\n",
        "\n",
        "print('Validation daisy images:', num_daisy_val)\n",
        "print('Validation dandelion images:', num_dandelion_val)\n",
        "print('Validation roses images:', num_roses_val)\n",
        "print('Validation sunflowers images:', num_sunflowers_val)\n",
        "print('Validation tulips images:', num_tulips_val)\n",
        "\n",
        "print(\"--\")\n",
        "\n",
        "print(\"Total training images:\", total_train)\n",
        "print(\"Total validation images:\", total_val)"
      ],
      "execution_count": 0,
      "outputs": [
        {
          "output_type": "stream",
          "text": [
            "Training daisy images: 200\n",
            "Training dandelion images: 200\n",
            "Training roses images: 200\n",
            "Training sunflowers images: 200\n",
            "Training tulips images: 200\n",
            "Validation daisy images: 100\n",
            "Validation dandelion images: 100\n",
            "Validation roses images: 100\n",
            "Validation sunflowers images: 100\n",
            "Validation tulips images: 100\n",
            "--\n",
            "Total training images: 1000\n",
            "Total validation images: 500\n"
          ],
          "name": "stdout"
        }
      ]
    },
    {
      "metadata": {
        "id": "Td61t-ncSQHC",
        "colab_type": "code",
        "outputId": "6c21d148-650f-4469-abf4-b2ddb78e2edf",
        "colab": {
          "base_uri": "https://localhost:8080/",
          "height": 88
        }
      },
      "cell_type": "code",
      "source": [
        "conv_base = VGG16(weights='imagenet',include_top=False, input_shape=(150, 150, 3))\n"
      ],
      "execution_count": 0,
      "outputs": [
        {
          "output_type": "stream",
          "text": [
            "WARNING:tensorflow:From /usr/local/lib/python3.6/dist-packages/tensorflow/python/ops/resource_variable_ops.py:435: colocate_with (from tensorflow.python.framework.ops) is deprecated and will be removed in a future version.\n",
            "Instructions for updating:\n",
            "Colocations handled automatically by placer.\n"
          ],
          "name": "stdout"
        }
      ]
    },
    {
      "metadata": {
        "id": "88vAa812SvyG",
        "colab_type": "code",
        "outputId": "029a2b06-b6c6-4de7-ada2-d2fe8a75c5e7",
        "colab": {
          "base_uri": "https://localhost:8080/",
          "height": 782
        }
      },
      "cell_type": "code",
      "source": [
        "conv_base.summary()\n"
      ],
      "execution_count": 0,
      "outputs": [
        {
          "output_type": "stream",
          "text": [
            "_________________________________________________________________\n",
            "Layer (type)                 Output Shape              Param #   \n",
            "=================================================================\n",
            "input_1 (InputLayer)         (None, 150, 150, 3)       0         \n",
            "_________________________________________________________________\n",
            "block1_conv1 (Conv2D)        (None, 150, 150, 64)      1792      \n",
            "_________________________________________________________________\n",
            "block1_conv2 (Conv2D)        (None, 150, 150, 64)      36928     \n",
            "_________________________________________________________________\n",
            "block1_pool (MaxPooling2D)   (None, 75, 75, 64)        0         \n",
            "_________________________________________________________________\n",
            "block2_conv1 (Conv2D)        (None, 75, 75, 128)       73856     \n",
            "_________________________________________________________________\n",
            "block2_conv2 (Conv2D)        (None, 75, 75, 128)       147584    \n",
            "_________________________________________________________________\n",
            "block2_pool (MaxPooling2D)   (None, 37, 37, 128)       0         \n",
            "_________________________________________________________________\n",
            "block3_conv1 (Conv2D)        (None, 37, 37, 256)       295168    \n",
            "_________________________________________________________________\n",
            "block3_conv2 (Conv2D)        (None, 37, 37, 256)       590080    \n",
            "_________________________________________________________________\n",
            "block3_conv3 (Conv2D)        (None, 37, 37, 256)       590080    \n",
            "_________________________________________________________________\n",
            "block3_pool (MaxPooling2D)   (None, 18, 18, 256)       0         \n",
            "_________________________________________________________________\n",
            "block4_conv1 (Conv2D)        (None, 18, 18, 512)       1180160   \n",
            "_________________________________________________________________\n",
            "block4_conv2 (Conv2D)        (None, 18, 18, 512)       2359808   \n",
            "_________________________________________________________________\n",
            "block4_conv3 (Conv2D)        (None, 18, 18, 512)       2359808   \n",
            "_________________________________________________________________\n",
            "block4_pool (MaxPooling2D)   (None, 9, 9, 512)         0         \n",
            "_________________________________________________________________\n",
            "block5_conv1 (Conv2D)        (None, 9, 9, 512)         2359808   \n",
            "_________________________________________________________________\n",
            "block5_conv2 (Conv2D)        (None, 9, 9, 512)         2359808   \n",
            "_________________________________________________________________\n",
            "block5_conv3 (Conv2D)        (None, 9, 9, 512)         2359808   \n",
            "_________________________________________________________________\n",
            "block5_pool (MaxPooling2D)   (None, 4, 4, 512)         0         \n",
            "=================================================================\n",
            "Total params: 14,714,688\n",
            "Trainable params: 14,714,688\n",
            "Non-trainable params: 0\n",
            "_________________________________________________________________\n"
          ],
          "name": "stdout"
        }
      ]
    },
    {
      "metadata": {
        "id": "OpuAG7XJTplo",
        "colab_type": "code",
        "colab": {}
      },
      "cell_type": "code",
      "source": [
        "TARGET_SHAPE = 150 \n",
        "BATCH_SIZE = 32"
      ],
      "execution_count": 0,
      "outputs": []
    },
    {
      "metadata": {
        "id": "sVYn6MFgTqfq",
        "colab_type": "code",
        "outputId": "2f9f8ecd-014e-4113-b11f-f73e88253094",
        "colab": {
          "base_uri": "https://localhost:8080/",
          "height": 51
        }
      },
      "cell_type": "code",
      "source": [
        "datagen = ImageDataGenerator(rescale=1./255)\n",
        "\n",
        "def extract_features(directory, sample_count):\n",
        "    features = np.zeros(shape=(sample_count, 4, 4, 512))\n",
        "    labels = np.zeros(shape=(sample_count))\n",
        "    generator = datagen.flow_from_directory(\n",
        "        directory,\n",
        "        target_size=(TARGET_SHAPE, TARGET_SHAPE),\n",
        "        batch_size=BATCH_SIZE,\n",
        "        class_mode='binary')\n",
        "    i = 0\n",
        "    for inputs_batch, labels_batch in generator:\n",
        "      \n",
        "        features_batch = conv_base.predict(inputs_batch)\n",
        "        # print(features_batch.shape)\n",
        "        # (32, 4, 4, 512)\n",
        "        # Think: batch_size, rows, cols, channels\n",
        "        \n",
        "        features[i * BATCH_SIZE : (i + 1) * BATCH_SIZE] = features_batch\n",
        "        labels[i * BATCH_SIZE : (i + 1) * BATCH_SIZE] = labels_batch\n",
        "        i += 1\n",
        "        if i * BATCH_SIZE >= sample_count:\n",
        "            # Note that since generators yield data indefinitely in a loop,\n",
        "            # we must `break` after every image has been seen once.\n",
        "            break\n",
        "    return features, labels\n",
        "\n",
        "train_features, train_labels = extract_features(train_dir, 1000)\n",
        "validation_features, validation_labels = extract_features(validation_dir, 500)"
      ],
      "execution_count": 0,
      "outputs": [
        {
          "output_type": "stream",
          "text": [
            "Found 1000 images belonging to 5 classes.\n",
            "Found 500 images belonging to 5 classes.\n"
          ],
          "name": "stdout"
        }
      ]
    },
    {
      "metadata": {
        "id": "BwubrDzmWK5g",
        "colab_type": "code",
        "colab": {}
      },
      "cell_type": "code",
      "source": [
        "FLATTENED_SHAPE = 4 * 4 * 512\n",
        "\n",
        "train_features = np.reshape(train_features, (total_train, FLATTENED_SHAPE))\n",
        "validation_features = np.reshape(validation_features, (total_val, FLATTENED_SHAPE))"
      ],
      "execution_count": 0,
      "outputs": []
    },
    {
      "metadata": {
        "id": "PrEZFe9fWM0w",
        "colab_type": "code",
        "colab": {}
      },
      "cell_type": "code",
      "source": [
        "EPOCHS = 50\n"
      ],
      "execution_count": 0,
      "outputs": []
    },
    {
      "metadata": {
        "id": "FCLaKMQSWQLb",
        "colab_type": "code",
        "outputId": "f46b3d6b-e161-4f05-87a0-e0a25d2fc5fa",
        "colab": {
          "base_uri": "https://localhost:8080/",
          "height": 1734
        }
      },
      "cell_type": "code",
      "source": [
        "model = Sequential()\n",
        "model.add(Dense(256, activation='relu', input_dim=FLATTENED_SHAPE))\n",
        "model.add(Dropout(0.5))\n",
        "model.add(Dense(256, activation='relu'))\n",
        "model.add(Dropout(0.5))\n",
        "model.add(Dense(10, activation='softmax'))\n",
        "\n",
        "model.compile(optimizer='adam',\n",
        "              loss='sparse_categorical_crossentropy',\n",
        "              metrics=['acc'])\n",
        "\n",
        "history = model.fit(train_features, train_labels,\n",
        "                    epochs=EPOCHS,\n",
        "                    batch_size=BATCH_SIZE,\n",
        "                    validation_data=(validation_features, validation_labels))\n"
      ],
      "execution_count": 0,
      "outputs": [
        {
          "output_type": "stream",
          "text": [
            "Train on 1000 samples, validate on 500 samples\n",
            "Epoch 1/50\n",
            "1000/1000 [==============================] - 2s 2ms/sample - loss: 1.7923 - acc: 0.3460 - val_loss: 1.0136 - val_acc: 0.6200\n",
            "Epoch 2/50\n",
            "1000/1000 [==============================] - 2s 2ms/sample - loss: 1.1254 - acc: 0.5780 - val_loss: 0.8488 - val_acc: 0.7060\n",
            "Epoch 3/50\n",
            "1000/1000 [==============================] - 2s 2ms/sample - loss: 0.9103 - acc: 0.6400 - val_loss: 0.7882 - val_acc: 0.6840\n",
            "Epoch 4/50\n",
            "1000/1000 [==============================] - 2s 2ms/sample - loss: 0.7827 - acc: 0.7130 - val_loss: 0.6983 - val_acc: 0.7440\n",
            "Epoch 5/50\n",
            "1000/1000 [==============================] - 2s 2ms/sample - loss: 0.6664 - acc: 0.7450 - val_loss: 0.6312 - val_acc: 0.7720\n",
            "Epoch 6/50\n",
            "1000/1000 [==============================] - 2s 2ms/sample - loss: 0.5601 - acc: 0.8010 - val_loss: 0.6119 - val_acc: 0.7860\n",
            "Epoch 7/50\n",
            "1000/1000 [==============================] - 2s 2ms/sample - loss: 0.4392 - acc: 0.8460 - val_loss: 0.5917 - val_acc: 0.7740\n",
            "Epoch 8/50\n",
            "1000/1000 [==============================] - 2s 2ms/sample - loss: 0.4104 - acc: 0.8470 - val_loss: 0.6072 - val_acc: 0.7700\n",
            "Epoch 9/50\n",
            "1000/1000 [==============================] - 2s 2ms/sample - loss: 0.4016 - acc: 0.8590 - val_loss: 0.5904 - val_acc: 0.7840\n",
            "Epoch 10/50\n",
            "1000/1000 [==============================] - 2s 2ms/sample - loss: 0.2856 - acc: 0.9040 - val_loss: 0.6144 - val_acc: 0.7780\n",
            "Epoch 11/50\n",
            "1000/1000 [==============================] - 2s 2ms/sample - loss: 0.2614 - acc: 0.9130 - val_loss: 0.7750 - val_acc: 0.7620\n",
            "Epoch 12/50\n",
            "1000/1000 [==============================] - 2s 2ms/sample - loss: 0.2491 - acc: 0.9120 - val_loss: 0.6012 - val_acc: 0.7940\n",
            "Epoch 13/50\n",
            "1000/1000 [==============================] - 2s 2ms/sample - loss: 0.1883 - acc: 0.9390 - val_loss: 0.7262 - val_acc: 0.7820\n",
            "Epoch 14/50\n",
            "1000/1000 [==============================] - 2s 2ms/sample - loss: 0.1925 - acc: 0.9450 - val_loss: 0.6326 - val_acc: 0.7840\n",
            "Epoch 15/50\n",
            "1000/1000 [==============================] - 2s 2ms/sample - loss: 0.1590 - acc: 0.9430 - val_loss: 0.6406 - val_acc: 0.7940\n",
            "Epoch 16/50\n",
            "1000/1000 [==============================] - 2s 2ms/sample - loss: 0.1751 - acc: 0.9380 - val_loss: 0.7129 - val_acc: 0.7800\n",
            "Epoch 17/50\n",
            "1000/1000 [==============================] - 2s 2ms/sample - loss: 0.2005 - acc: 0.9340 - val_loss: 0.7021 - val_acc: 0.7760\n",
            "Epoch 18/50\n",
            "1000/1000 [==============================] - 2s 2ms/sample - loss: 0.1861 - acc: 0.9340 - val_loss: 1.0479 - val_acc: 0.7300\n",
            "Epoch 19/50\n",
            "1000/1000 [==============================] - 2s 2ms/sample - loss: 0.1301 - acc: 0.9570 - val_loss: 0.7663 - val_acc: 0.7900\n",
            "Epoch 20/50\n",
            "1000/1000 [==============================] - 2s 2ms/sample - loss: 0.1495 - acc: 0.9430 - val_loss: 0.9951 - val_acc: 0.7580\n",
            "Epoch 21/50\n",
            "1000/1000 [==============================] - 2s 2ms/sample - loss: 0.1550 - acc: 0.9430 - val_loss: 0.7337 - val_acc: 0.7840\n",
            "Epoch 22/50\n",
            "1000/1000 [==============================] - 2s 2ms/sample - loss: 0.1809 - acc: 0.9230 - val_loss: 0.6580 - val_acc: 0.7900\n",
            "Epoch 23/50\n",
            "1000/1000 [==============================] - 2s 2ms/sample - loss: 0.1443 - acc: 0.9510 - val_loss: 0.8209 - val_acc: 0.8020\n",
            "Epoch 24/50\n",
            "1000/1000 [==============================] - 2s 2ms/sample - loss: 0.1384 - acc: 0.9420 - val_loss: 0.7487 - val_acc: 0.7920\n",
            "Epoch 25/50\n",
            "1000/1000 [==============================] - 2s 2ms/sample - loss: 0.1123 - acc: 0.9580 - val_loss: 0.6955 - val_acc: 0.7960\n",
            "Epoch 26/50\n",
            "1000/1000 [==============================] - 2s 2ms/sample - loss: 0.1073 - acc: 0.9660 - val_loss: 0.6952 - val_acc: 0.8020\n",
            "Epoch 27/50\n",
            "1000/1000 [==============================] - 2s 2ms/sample - loss: 0.1133 - acc: 0.9580 - val_loss: 0.9095 - val_acc: 0.7740\n",
            "Epoch 28/50\n",
            "1000/1000 [==============================] - 2s 2ms/sample - loss: 0.1281 - acc: 0.9500 - val_loss: 0.7131 - val_acc: 0.7960\n",
            "Epoch 29/50\n",
            "1000/1000 [==============================] - 2s 2ms/sample - loss: 0.1147 - acc: 0.9490 - val_loss: 0.7450 - val_acc: 0.7940\n",
            "Epoch 30/50\n",
            "1000/1000 [==============================] - 2s 2ms/sample - loss: 0.1520 - acc: 0.9470 - val_loss: 1.0865 - val_acc: 0.7760\n",
            "Epoch 31/50\n",
            "1000/1000 [==============================] - 2s 2ms/sample - loss: 0.1254 - acc: 0.9540 - val_loss: 0.8627 - val_acc: 0.7780\n",
            "Epoch 32/50\n",
            "1000/1000 [==============================] - 2s 2ms/sample - loss: 0.1033 - acc: 0.9630 - val_loss: 0.8938 - val_acc: 0.7780\n",
            "Epoch 33/50\n",
            "1000/1000 [==============================] - 2s 2ms/sample - loss: 0.0908 - acc: 0.9680 - val_loss: 0.9309 - val_acc: 0.7720\n",
            "Epoch 34/50\n",
            "1000/1000 [==============================] - 2s 2ms/sample - loss: 0.0856 - acc: 0.9660 - val_loss: 1.1829 - val_acc: 0.7440\n",
            "Epoch 35/50\n",
            "1000/1000 [==============================] - 2s 2ms/sample - loss: 0.0946 - acc: 0.9690 - val_loss: 0.8998 - val_acc: 0.7940\n",
            "Epoch 36/50\n",
            "1000/1000 [==============================] - 2s 2ms/sample - loss: 0.0713 - acc: 0.9700 - val_loss: 0.8485 - val_acc: 0.7920\n",
            "Epoch 37/50\n",
            "1000/1000 [==============================] - 2s 2ms/sample - loss: 0.0494 - acc: 0.9820 - val_loss: 1.1388 - val_acc: 0.7660\n",
            "Epoch 38/50\n",
            "1000/1000 [==============================] - 2s 2ms/sample - loss: 0.0754 - acc: 0.9760 - val_loss: 0.9527 - val_acc: 0.7640\n",
            "Epoch 39/50\n",
            "1000/1000 [==============================] - 2s 2ms/sample - loss: 0.0703 - acc: 0.9740 - val_loss: 0.9382 - val_acc: 0.7840\n",
            "Epoch 40/50\n",
            "1000/1000 [==============================] - 2s 2ms/sample - loss: 0.0604 - acc: 0.9820 - val_loss: 1.0403 - val_acc: 0.7840\n",
            "Epoch 41/50\n",
            "1000/1000 [==============================] - 2s 2ms/sample - loss: 0.0770 - acc: 0.9690 - val_loss: 0.9768 - val_acc: 0.7580\n",
            "Epoch 42/50\n",
            "1000/1000 [==============================] - 2s 2ms/sample - loss: 0.0559 - acc: 0.9820 - val_loss: 0.9444 - val_acc: 0.8020\n",
            "Epoch 43/50\n",
            "1000/1000 [==============================] - 2s 2ms/sample - loss: 0.0741 - acc: 0.9770 - val_loss: 1.0393 - val_acc: 0.7740\n",
            "Epoch 44/50\n",
            "1000/1000 [==============================] - 2s 2ms/sample - loss: 0.1433 - acc: 0.9490 - val_loss: 0.9640 - val_acc: 0.7760\n",
            "Epoch 45/50\n",
            "1000/1000 [==============================] - 2s 2ms/sample - loss: 0.1089 - acc: 0.9660 - val_loss: 1.0197 - val_acc: 0.7720\n",
            "Epoch 46/50\n",
            "1000/1000 [==============================] - 2s 2ms/sample - loss: 0.1418 - acc: 0.9570 - val_loss: 0.9723 - val_acc: 0.7620\n",
            "Epoch 47/50\n",
            "1000/1000 [==============================] - 2s 2ms/sample - loss: 0.0843 - acc: 0.9670 - val_loss: 1.3834 - val_acc: 0.7420\n",
            "Epoch 48/50\n",
            "1000/1000 [==============================] - 2s 2ms/sample - loss: 0.0878 - acc: 0.9670 - val_loss: 0.9879 - val_acc: 0.7740\n",
            "Epoch 49/50\n",
            "1000/1000 [==============================] - 2s 2ms/sample - loss: 0.1152 - acc: 0.9540 - val_loss: 1.1193 - val_acc: 0.7740\n",
            "Epoch 50/50\n",
            "1000/1000 [==============================] - 2s 2ms/sample - loss: 0.1315 - acc: 0.9600 - val_loss: 0.7975 - val_acc: 0.7760\n"
          ],
          "name": "stdout"
        }
      ]
    },
    {
      "metadata": {
        "id": "bgfJolTMXeFS",
        "colab_type": "code",
        "outputId": "df55958e-a934-4b76-af24-24a724e605bc",
        "colab": {
          "base_uri": "https://localhost:8080/",
          "height": 498
        }
      },
      "cell_type": "code",
      "source": [
        "\n",
        "acc = history.history['acc']\n",
        "val_acc = history.history['val_acc']\n",
        "\n",
        "loss = history.history['loss']\n",
        "val_loss = history.history['val_loss']\n",
        "\n",
        "epochs_range = range(1, EPOCHS+1)\n",
        "\n",
        "plt.figure(figsize=(8, 8))\n",
        "plt.subplot(1, 2, 1)\n",
        "plt.plot(epochs_range, acc, label='Training Accuracy')\n",
        "plt.plot(epochs_range, val_acc, label='Validation Accuracy')\n",
        "plt.legend(loc='lower right')\n",
        "plt.title('Training and Validation Accuracy')\n",
        "\n",
        "plt.subplot(1, 2, 2)\n",
        "plt.plot(epochs_range, loss, label='Training Loss')\n",
        "plt.plot(epochs_range, val_loss, label='Validation Loss')\n",
        "plt.legend(loc='upper right')\n",
        "plt.title('Training and Validation Loss')\n",
        "plt.show()"
      ],
      "execution_count": 0,
      "outputs": [
        {
          "output_type": "display_data",
          "data": {
            "image/png": "[encoded data removed]",
            "text/plain": [
              "<Figure size 576x576 with 2 Axes>"
            ]
          },
          "metadata": {
            "tags": []
          }
        }
      ]
    },
    {
      "metadata": {
        "id": "6qp_LjJJlBCD",
        "colab_type": "text"
      },
      "cell_type": "markdown",
      "source": [
        "Question2.  Base -----**[VGG19](https://)**"
      ]
    },
    {
      "metadata": {
        "id": "IaCAyGDKXqls",
        "colab_type": "code",
        "outputId": "af3612a9-b9f0-4ea0-a652-164c200b6503",
        "colab": {
          "base_uri": "https://localhost:8080/",
          "height": 51
        }
      },
      "cell_type": "code",
      "source": [
        "conv_base = VGG19(weights='imagenet',include_top=False, input_shape=(150, 150, 3))\n"
      ],
      "execution_count": 0,
      "outputs": [
        {
          "output_type": "stream",
          "text": [
            "Downloading data from https://github.com/fchollet/deep-learning-models/releases/download/v0.1/vgg19_weights_tf_dim_ordering_tf_kernels_notop.h5\n",
            "80142336/80134624 [==============================] - 2s 0us/step\n"
          ],
          "name": "stdout"
        }
      ]
    },
    {
      "metadata": {
        "id": "etKCRUjKXspf",
        "colab_type": "code",
        "outputId": "283fe000-aae1-4a53-f542-c3aec042487d",
        "colab": {
          "base_uri": "https://localhost:8080/",
          "height": 884
        }
      },
      "cell_type": "code",
      "source": [
        "conv_base.summary()\n"
      ],
      "execution_count": 0,
      "outputs": [
        {
          "output_type": "stream",
          "text": [
            "_________________________________________________________________\n",
            "Layer (type)                 Output Shape              Param #   \n",
            "=================================================================\n",
            "input_2 (InputLayer)         (None, 150, 150, 3)       0         \n",
            "_________________________________________________________________\n",
            "block1_conv1 (Conv2D)        (None, 150, 150, 64)      1792      \n",
            "_________________________________________________________________\n",
            "block1_conv2 (Conv2D)        (None, 150, 150, 64)      36928     \n",
            "_________________________________________________________________\n",
            "block1_pool (MaxPooling2D)   (None, 75, 75, 64)        0         \n",
            "_________________________________________________________________\n",
            "block2_conv1 (Conv2D)        (None, 75, 75, 128)       73856     \n",
            "_________________________________________________________________\n",
            "block2_conv2 (Conv2D)        (None, 75, 75, 128)       147584    \n",
            "_________________________________________________________________\n",
            "block2_pool (MaxPooling2D)   (None, 37, 37, 128)       0         \n",
            "_________________________________________________________________\n",
            "block3_conv1 (Conv2D)        (None, 37, 37, 256)       295168    \n",
            "_________________________________________________________________\n",
            "block3_conv2 (Conv2D)        (None, 37, 37, 256)       590080    \n",
            "_________________________________________________________________\n",
            "block3_conv3 (Conv2D)        (None, 37, 37, 256)       590080    \n",
            "_________________________________________________________________\n",
            "block3_conv4 (Conv2D)        (None, 37, 37, 256)       590080    \n",
            "_________________________________________________________________\n",
            "block3_pool (MaxPooling2D)   (None, 18, 18, 256)       0         \n",
            "_________________________________________________________________\n",
            "block4_conv1 (Conv2D)        (None, 18, 18, 512)       1180160   \n",
            "_________________________________________________________________\n",
            "block4_conv2 (Conv2D)        (None, 18, 18, 512)       2359808   \n",
            "_________________________________________________________________\n",
            "block4_conv3 (Conv2D)        (None, 18, 18, 512)       2359808   \n",
            "_________________________________________________________________\n",
            "block4_conv4 (Conv2D)        (None, 18, 18, 512)       2359808   \n",
            "_________________________________________________________________\n",
            "block4_pool (MaxPooling2D)   (None, 9, 9, 512)         0         \n",
            "_________________________________________________________________\n",
            "block5_conv1 (Conv2D)        (None, 9, 9, 512)         2359808   \n",
            "_________________________________________________________________\n",
            "block5_conv2 (Conv2D)        (None, 9, 9, 512)         2359808   \n",
            "_________________________________________________________________\n",
            "block5_conv3 (Conv2D)        (None, 9, 9, 512)         2359808   \n",
            "_________________________________________________________________\n",
            "block5_conv4 (Conv2D)        (None, 9, 9, 512)         2359808   \n",
            "_________________________________________________________________\n",
            "block5_pool (MaxPooling2D)   (None, 4, 4, 512)         0         \n",
            "=================================================================\n",
            "Total params: 20,024,384\n",
            "Trainable params: 20,024,384\n",
            "Non-trainable params: 0\n",
            "_________________________________________________________________\n"
          ],
          "name": "stdout"
        }
      ]
    },
    {
      "metadata": {
        "id": "aov2NGcKk90n",
        "colab_type": "code",
        "colab": {}
      },
      "cell_type": "code",
      "source": [
        "TARGET_SHAPE = 150 \n",
        "BATCH_SIZE = 32"
      ],
      "execution_count": 0,
      "outputs": []
    },
    {
      "metadata": {
        "id": "pQkVQACklNT9",
        "colab_type": "code",
        "outputId": "4f652eda-c2ba-4976-aa5d-38038f0c2e1c",
        "colab": {
          "base_uri": "https://localhost:8080/",
          "height": 51
        }
      },
      "cell_type": "code",
      "source": [
        "datagen = ImageDataGenerator(rescale=1./255)\n",
        "\n",
        "def extract_features(directory, sample_count):\n",
        "    features = np.zeros(shape=(sample_count, 4, 4, 512))\n",
        "    labels = np.zeros(shape=(sample_count))\n",
        "    generator = datagen.flow_from_directory(\n",
        "        directory,\n",
        "        target_size=(TARGET_SHAPE, TARGET_SHAPE),\n",
        "        batch_size=BATCH_SIZE,\n",
        "        class_mode='binary')\n",
        "    i = 0\n",
        "    for inputs_batch, labels_batch in generator:\n",
        "      \n",
        "        features_batch = conv_base.predict(inputs_batch)\n",
        "        # print(features_batch.shape)\n",
        "        # (32, 4, 4, 512)\n",
        "        # Think: batch_size, rows, cols, channels\n",
        "        \n",
        "        features[i * BATCH_SIZE : (i + 1) * BATCH_SIZE] = features_batch\n",
        "        labels[i * BATCH_SIZE : (i + 1) * BATCH_SIZE] = labels_batch\n",
        "        i += 1\n",
        "        if i * BATCH_SIZE >= sample_count:\n",
        "            # Note that since generators yield data indefinitely in a loop,\n",
        "            # we must `break` after every image has been seen once.\n",
        "            break\n",
        "    return features, labels\n",
        "\n",
        "train_features, train_labels = extract_features(train_dir, 1000)\n",
        "validation_features, validation_labels = extract_features(validation_dir, 500)"
      ],
      "execution_count": 0,
      "outputs": [
        {
          "output_type": "stream",
          "text": [
            "Found 1000 images belonging to 5 classes.\n",
            "Found 500 images belonging to 5 classes.\n"
          ],
          "name": "stdout"
        }
      ]
    },
    {
      "metadata": {
        "id": "cd9JDzwylRpk",
        "colab_type": "code",
        "colab": {}
      },
      "cell_type": "code",
      "source": [
        "FLATTENED_SHAPE = 4 * 4 * 512\n",
        "\n",
        "train_features = np.reshape(train_features, (total_train, FLATTENED_SHAPE))\n",
        "validation_features = np.reshape(validation_features, (total_val, FLATTENED_SHAPE))"
      ],
      "execution_count": 0,
      "outputs": []
    },
    {
      "metadata": {
        "id": "5lglS_yAlWsn",
        "colab_type": "code",
        "colab": {}
      },
      "cell_type": "code",
      "source": [
        "EPOCHS = 50\n"
      ],
      "execution_count": 0,
      "outputs": []
    },
    {
      "metadata": {
        "id": "BXxlUJkylZk9",
        "colab_type": "code",
        "outputId": "0f21fb5d-712c-4825-a715-709673c42f39",
        "colab": {
          "base_uri": "https://localhost:8080/",
          "height": 1734
        }
      },
      "cell_type": "code",
      "source": [
        "model = Sequential()\n",
        "model.add(Dense(256, activation='relu', input_dim=FLATTENED_SHAPE))\n",
        "model.add(Dropout(0.5))\n",
        "model.add(Dense(256, activation='relu'))\n",
        "model.add(Dropout(0.5))\n",
        "model.add(Dense(10, activation='softmax'))\n",
        "\n",
        "model.compile(optimizer='adam',\n",
        "              loss='sparse_categorical_crossentropy',\n",
        "              metrics=['acc'])\n",
        "\n",
        "history = model.fit(train_features, train_labels,\n",
        "                    epochs=EPOCHS,\n",
        "                    batch_size=BATCH_SIZE,\n",
        "                    validation_data=(validation_features, validation_labels))"
      ],
      "execution_count": 0,
      "outputs": [
        {
          "output_type": "stream",
          "text": [
            "Train on 1000 samples, validate on 500 samples\n",
            "Epoch 1/50\n",
            "1000/1000 [==============================] - 2s 2ms/sample - loss: 1.8744 - acc: 0.3340 - val_loss: 1.0726 - val_acc: 0.6600\n",
            "Epoch 2/50\n",
            "1000/1000 [==============================] - 2s 2ms/sample - loss: 1.2780 - acc: 0.5060 - val_loss: 0.8942 - val_acc: 0.6960\n",
            "Epoch 3/50\n",
            "1000/1000 [==============================] - 2s 2ms/sample - loss: 1.0263 - acc: 0.6040 - val_loss: 0.8216 - val_acc: 0.7400\n",
            "Epoch 4/50\n",
            "1000/1000 [==============================] - 2s 2ms/sample - loss: 0.9181 - acc: 0.6420 - val_loss: 0.8007 - val_acc: 0.7460\n",
            "Epoch 5/50\n",
            "1000/1000 [==============================] - 2s 2ms/sample - loss: 0.7660 - acc: 0.7030 - val_loss: 0.6792 - val_acc: 0.7740\n",
            "Epoch 6/50\n",
            "1000/1000 [==============================] - 2s 2ms/sample - loss: 0.6717 - acc: 0.7260 - val_loss: 0.6871 - val_acc: 0.7400\n",
            "Epoch 7/50\n",
            "1000/1000 [==============================] - 2s 2ms/sample - loss: 0.6228 - acc: 0.7600 - val_loss: 0.6278 - val_acc: 0.7700\n",
            "Epoch 8/50\n",
            "1000/1000 [==============================] - 2s 2ms/sample - loss: 0.5924 - acc: 0.7870 - val_loss: 0.7418 - val_acc: 0.7420\n",
            "Epoch 9/50\n",
            "1000/1000 [==============================] - 2s 2ms/sample - loss: 0.5313 - acc: 0.8190 - val_loss: 0.6683 - val_acc: 0.7680\n",
            "Epoch 10/50\n",
            "1000/1000 [==============================] - 2s 2ms/sample - loss: 0.4430 - acc: 0.8360 - val_loss: 0.6310 - val_acc: 0.7720\n",
            "Epoch 11/50\n",
            "1000/1000 [==============================] - 2s 2ms/sample - loss: 0.3968 - acc: 0.8520 - val_loss: 0.6826 - val_acc: 0.7720\n",
            "Epoch 12/50\n",
            "1000/1000 [==============================] - 2s 2ms/sample - loss: 0.3959 - acc: 0.8640 - val_loss: 0.6411 - val_acc: 0.7900\n",
            "Epoch 13/50\n",
            "1000/1000 [==============================] - 2s 2ms/sample - loss: 0.3989 - acc: 0.8600 - val_loss: 0.8647 - val_acc: 0.7280\n",
            "Epoch 14/50\n",
            "1000/1000 [==============================] - 2s 2ms/sample - loss: 0.3428 - acc: 0.8800 - val_loss: 0.7293 - val_acc: 0.7540\n",
            "Epoch 15/50\n",
            "1000/1000 [==============================] - 2s 2ms/sample - loss: 0.3618 - acc: 0.8660 - val_loss: 0.6753 - val_acc: 0.7820\n",
            "Epoch 16/50\n",
            "1000/1000 [==============================] - 2s 2ms/sample - loss: 0.3245 - acc: 0.8740 - val_loss: 0.7235 - val_acc: 0.7840\n",
            "Epoch 17/50\n",
            "1000/1000 [==============================] - 2s 2ms/sample - loss: 0.3529 - acc: 0.8780 - val_loss: 0.7112 - val_acc: 0.7740\n",
            "Epoch 18/50\n",
            "1000/1000 [==============================] - 2s 2ms/sample - loss: 0.2662 - acc: 0.8910 - val_loss: 0.7263 - val_acc: 0.7700\n",
            "Epoch 19/50\n",
            "1000/1000 [==============================] - 2s 2ms/sample - loss: 0.2288 - acc: 0.9170 - val_loss: 0.6372 - val_acc: 0.7820\n",
            "Epoch 20/50\n",
            "1000/1000 [==============================] - 2s 2ms/sample - loss: 0.2148 - acc: 0.9240 - val_loss: 0.7397 - val_acc: 0.7740\n",
            "Epoch 21/50\n",
            "1000/1000 [==============================] - 2s 2ms/sample - loss: 0.2495 - acc: 0.9100 - val_loss: 0.8302 - val_acc: 0.7560\n",
            "Epoch 22/50\n",
            "1000/1000 [==============================] - 2s 2ms/sample - loss: 0.2139 - acc: 0.9200 - val_loss: 0.8683 - val_acc: 0.7700\n",
            "Epoch 23/50\n",
            "1000/1000 [==============================] - 2s 2ms/sample - loss: 0.2323 - acc: 0.9080 - val_loss: 0.7435 - val_acc: 0.7900\n",
            "Epoch 24/50\n",
            "1000/1000 [==============================] - 2s 2ms/sample - loss: 0.2125 - acc: 0.9210 - val_loss: 0.8605 - val_acc: 0.7480\n",
            "Epoch 25/50\n",
            "1000/1000 [==============================] - 2s 2ms/sample - loss: 0.2116 - acc: 0.9180 - val_loss: 0.7925 - val_acc: 0.7840\n",
            "Epoch 26/50\n",
            "1000/1000 [==============================] - 2s 2ms/sample - loss: 0.1792 - acc: 0.9310 - val_loss: 0.9032 - val_acc: 0.7640\n",
            "Epoch 27/50\n",
            "1000/1000 [==============================] - 2s 2ms/sample - loss: 0.2049 - acc: 0.9190 - val_loss: 0.7676 - val_acc: 0.7900\n",
            "Epoch 28/50\n",
            "1000/1000 [==============================] - 2s 2ms/sample - loss: 0.1685 - acc: 0.9280 - val_loss: 0.6659 - val_acc: 0.7780\n",
            "Epoch 29/50\n",
            "1000/1000 [==============================] - 2s 2ms/sample - loss: 0.1897 - acc: 0.9310 - val_loss: 0.9840 - val_acc: 0.7620\n",
            "Epoch 30/50\n",
            "1000/1000 [==============================] - 2s 2ms/sample - loss: 0.1919 - acc: 0.9280 - val_loss: 0.7763 - val_acc: 0.7760\n",
            "Epoch 31/50\n",
            "1000/1000 [==============================] - 2s 2ms/sample - loss: 0.1684 - acc: 0.9380 - val_loss: 0.9987 - val_acc: 0.7740\n",
            "Epoch 32/50\n",
            "1000/1000 [==============================] - 2s 2ms/sample - loss: 0.1651 - acc: 0.9330 - val_loss: 0.8273 - val_acc: 0.7720\n",
            "Epoch 33/50\n",
            "1000/1000 [==============================] - 2s 2ms/sample - loss: 0.2269 - acc: 0.9170 - val_loss: 0.9905 - val_acc: 0.7340\n",
            "Epoch 34/50\n",
            "1000/1000 [==============================] - 2s 2ms/sample - loss: 0.2206 - acc: 0.9110 - val_loss: 0.9304 - val_acc: 0.7440\n",
            "Epoch 35/50\n",
            "1000/1000 [==============================] - 2s 2ms/sample - loss: 0.2144 - acc: 0.9220 - val_loss: 0.9394 - val_acc: 0.7560\n",
            "Epoch 36/50\n",
            "1000/1000 [==============================] - 2s 2ms/sample - loss: 0.1681 - acc: 0.9300 - val_loss: 1.0174 - val_acc: 0.7680\n",
            "Epoch 37/50\n",
            "1000/1000 [==============================] - 2s 2ms/sample - loss: 0.1949 - acc: 0.9260 - val_loss: 0.9805 - val_acc: 0.7700\n",
            "Epoch 38/50\n",
            "1000/1000 [==============================] - 2s 2ms/sample - loss: 0.2044 - acc: 0.9240 - val_loss: 0.9327 - val_acc: 0.7540\n",
            "Epoch 39/50\n",
            "1000/1000 [==============================] - 2s 2ms/sample - loss: 0.1932 - acc: 0.9230 - val_loss: 0.9822 - val_acc: 0.7760\n",
            "Epoch 40/50\n",
            "1000/1000 [==============================] - 2s 2ms/sample - loss: 0.1671 - acc: 0.9290 - val_loss: 1.0821 - val_acc: 0.7540\n",
            "Epoch 41/50\n",
            "1000/1000 [==============================] - 2s 2ms/sample - loss: 0.1654 - acc: 0.9320 - val_loss: 1.0314 - val_acc: 0.7620\n",
            "Epoch 42/50\n",
            "1000/1000 [==============================] - 2s 2ms/sample - loss: 0.1379 - acc: 0.9480 - val_loss: 0.8944 - val_acc: 0.7880\n",
            "Epoch 43/50\n",
            "1000/1000 [==============================] - 2s 2ms/sample - loss: 0.1449 - acc: 0.9380 - val_loss: 0.8976 - val_acc: 0.7780\n",
            "Epoch 44/50\n",
            "1000/1000 [==============================] - 2s 2ms/sample - loss: 0.1304 - acc: 0.9510 - val_loss: 0.9010 - val_acc: 0.7740\n",
            "Epoch 45/50\n",
            "1000/1000 [==============================] - 2s 2ms/sample - loss: 0.2008 - acc: 0.9240 - val_loss: 0.8568 - val_acc: 0.7720\n",
            "Epoch 46/50\n",
            "1000/1000 [==============================] - 2s 2ms/sample - loss: 0.1681 - acc: 0.9360 - val_loss: 1.1244 - val_acc: 0.7600\n",
            "Epoch 47/50\n",
            "1000/1000 [==============================] - 2s 2ms/sample - loss: 0.1599 - acc: 0.9410 - val_loss: 1.0704 - val_acc: 0.7640\n",
            "Epoch 48/50\n",
            "1000/1000 [==============================] - 2s 2ms/sample - loss: 0.1869 - acc: 0.9310 - val_loss: 1.1487 - val_acc: 0.7320\n",
            "Epoch 49/50\n",
            "1000/1000 [==============================] - 2s 2ms/sample - loss: 0.1291 - acc: 0.9490 - val_loss: 0.9421 - val_acc: 0.7840\n",
            "Epoch 50/50\n",
            "1000/1000 [==============================] - 2s 2ms/sample - loss: 0.1241 - acc: 0.9460 - val_loss: 0.9813 - val_acc: 0.7740\n"
          ],
          "name": "stdout"
        }
      ]
    },
    {
      "metadata": {
        "id": "-Al84vSulf8z",
        "colab_type": "code",
        "outputId": "fc1da92c-7517-4466-bbe9-fa1ab95c6df9",
        "colab": {
          "base_uri": "https://localhost:8080/",
          "height": 498
        }
      },
      "cell_type": "code",
      "source": [
        "acc = history.history['acc']\n",
        "val_acc = history.history['val_acc']\n",
        "\n",
        "loss = history.history['loss']\n",
        "val_loss = history.history['val_loss']\n",
        "\n",
        "epochs_range = range(1, EPOCHS+1)\n",
        "\n",
        "plt.figure(figsize=(8, 8))\n",
        "plt.subplot(1, 2, 1)\n",
        "plt.plot(epochs_range, acc, label='Training Accuracy')\n",
        "plt.plot(epochs_range, val_acc, label='Validation Accuracy')\n",
        "plt.legend(loc='lower right')\n",
        "plt.title('Training and Validation Accuracy')\n",
        "\n",
        "plt.subplot(1, 2, 2)\n",
        "plt.plot(epochs_range, loss, label='Training Loss')\n",
        "plt.plot(epochs_range, val_loss, label='Validation Loss')\n",
        "plt.legend(loc='upper right')\n",
        "plt.title('Training and Validation Loss')\n",
        "plt.show()"
      ],
      "execution_count": 0,
      "outputs": [
        {
          "output_type": "display_data",
          "data": {
            "image/png": "[encoded data removed]",
            "text/plain": [
              "<Figure size 576x576 with 2 Axes>"
            ]
          },
          "metadata": {
            "tags": []
          }
        }
      ]
    },
    {
      "metadata": {
        "id": "Zy3FGxVcn8od",
        "colab_type": "text"
      },
      "cell_type": "markdown",
      "source": [
        "Base2 - ResNet50"
      ]
    },
    {
      "metadata": {
        "id": "ElcoTYd7oGOK",
        "colab_type": "code",
        "outputId": "4391591a-138e-41fd-c913-ea683f5469fa",
        "colab": {
          "base_uri": "https://localhost:8080/",
          "height": 105
        }
      },
      "cell_type": "code",
      "source": [
        "conv_base = ResNet50(weights='imagenet',include_top=False, input_shape=(150, 150, 3))\n"
      ],
      "execution_count": 0,
      "outputs": [
        {
          "output_type": "stream",
          "text": [
            "/usr/local/lib/python3.6/dist-packages/keras_applications/resnet50.py:265: UserWarning: The output shape of `ResNet50(include_top=False)` has been changed since Keras 2.2.0.\n",
            "  warnings.warn('The output shape of `ResNet50(include_top=False)` '\n"
          ],
          "name": "stderr"
        },
        {
          "output_type": "stream",
          "text": [
            "Downloading data from https://github.com/fchollet/deep-learning-models/releases/download/v0.2/resnet50_weights_tf_dim_ordering_tf_kernels_notop.h5\n",
            "94658560/94653016 [==============================] - 3s 0us/step\n"
          ],
          "name": "stdout"
        }
      ]
    },
    {
      "metadata": {
        "id": "epLMcpwqoj7S",
        "colab_type": "code",
        "outputId": "9f347fbc-c4e7-4a6c-8f45-f5bff0091778",
        "colab": {
          "base_uri": "https://localhost:8080/",
          "height": 6358
        }
      },
      "cell_type": "code",
      "source": [
        "conv_base.summary()\n"
      ],
      "execution_count": 0,
      "outputs": [
        {
          "output_type": "stream",
          "text": [
            "__________________________________________________________________________________________________\n",
            "Layer (type)                    Output Shape         Param #     Connected to                     \n",
            "==================================================================================================\n",
            "input_3 (InputLayer)            (None, 150, 150, 3)  0                                            \n",
            "__________________________________________________________________________________________________\n",
            "conv1_pad (ZeroPadding2D)       (None, 156, 156, 3)  0           input_3[0][0]                    \n",
            "__________________________________________________________________________________________________\n",
            "conv1 (Conv2D)                  (None, 75, 75, 64)   9472        conv1_pad[0][0]                  \n",
            "__________________________________________________________________________________________________\n",
            "bn_conv1 (BatchNormalizationV1) (None, 75, 75, 64)   256         conv1[0][0]                      \n",
            "__________________________________________________________________________________________________\n",
            "activation (Activation)         (None, 75, 75, 64)   0           bn_conv1[0][0]                   \n",
            "__________________________________________________________________________________________________\n",
            "pool1_pad (ZeroPadding2D)       (None, 77, 77, 64)   0           activation[0][0]                 \n",
            "__________________________________________________________________________________________________\n",
            "max_pooling2d (MaxPooling2D)    (None, 38, 38, 64)   0           pool1_pad[0][0]                  \n",
            "__________________________________________________________________________________________________\n",
            "res2a_branch2a (Conv2D)         (None, 38, 38, 64)   4160        max_pooling2d[0][0]              \n",
            "__________________________________________________________________________________________________\n",
            "bn2a_branch2a (BatchNormalizati (None, 38, 38, 64)   256         res2a_branch2a[0][0]             \n",
            "__________________________________________________________________________________________________\n",
            "activation_1 (Activation)       (None, 38, 38, 64)   0           bn2a_branch2a[0][0]              \n",
            "__________________________________________________________________________________________________\n",
            "res2a_branch2b (Conv2D)         (None, 38, 38, 64)   36928       activation_1[0][0]               \n",
            "__________________________________________________________________________________________________\n",
            "bn2a_branch2b (BatchNormalizati (None, 38, 38, 64)   256         res2a_branch2b[0][0]             \n",
            "__________________________________________________________________________________________________\n",
            "activation_2 (Activation)       (None, 38, 38, 64)   0           bn2a_branch2b[0][0]              \n",
            "__________________________________________________________________________________________________\n",
            "res2a_branch2c (Conv2D)         (None, 38, 38, 256)  16640       activation_2[0][0]               \n",
            "__________________________________________________________________________________________________\n",
            "res2a_branch1 (Conv2D)          (None, 38, 38, 256)  16640       max_pooling2d[0][0]              \n",
            "__________________________________________________________________________________________________\n",
            "bn2a_branch2c (BatchNormalizati (None, 38, 38, 256)  1024        res2a_branch2c[0][0]             \n",
            "__________________________________________________________________________________________________\n",
            "bn2a_branch1 (BatchNormalizatio (None, 38, 38, 256)  1024        res2a_branch1[0][0]              \n",
            "__________________________________________________________________________________________________\n",
            "add (Add)                       (None, 38, 38, 256)  0           bn2a_branch2c[0][0]              \n",
            "                                                                 bn2a_branch1[0][0]               \n",
            "__________________________________________________________________________________________________\n",
            "activation_3 (Activation)       (None, 38, 38, 256)  0           add[0][0]                        \n",
            "__________________________________________________________________________________________________\n",
            "res2b_branch2a (Conv2D)         (None, 38, 38, 64)   16448       activation_3[0][0]               \n",
            "__________________________________________________________________________________________________\n",
            "bn2b_branch2a (BatchNormalizati (None, 38, 38, 64)   256         res2b_branch2a[0][0]             \n",
            "__________________________________________________________________________________________________\n",
            "activation_4 (Activation)       (None, 38, 38, 64)   0           bn2b_branch2a[0][0]              \n",
            "__________________________________________________________________________________________________\n",
            "res2b_branch2b (Conv2D)         (None, 38, 38, 64)   36928       activation_4[0][0]               \n",
            "__________________________________________________________________________________________________\n",
            "bn2b_branch2b (BatchNormalizati (None, 38, 38, 64)   256         res2b_branch2b[0][0]             \n",
            "__________________________________________________________________________________________________\n",
            "activation_5 (Activation)       (None, 38, 38, 64)   0           bn2b_branch2b[0][0]              \n",
            "__________________________________________________________________________________________________\n",
            "res2b_branch2c (Conv2D)         (None, 38, 38, 256)  16640       activation_5[0][0]               \n",
            "__________________________________________________________________________________________________\n",
            "bn2b_branch2c (BatchNormalizati (None, 38, 38, 256)  1024        res2b_branch2c[0][0]             \n",
            "__________________________________________________________________________________________________\n",
            "add_1 (Add)                     (None, 38, 38, 256)  0           bn2b_branch2c[0][0]              \n",
            "                                                                 activation_3[0][0]               \n",
            "__________________________________________________________________________________________________\n",
            "activation_6 (Activation)       (None, 38, 38, 256)  0           add_1[0][0]                      \n",
            "__________________________________________________________________________________________________\n",
            "res2c_branch2a (Conv2D)         (None, 38, 38, 64)   16448       activation_6[0][0]               \n",
            "__________________________________________________________________________________________________\n",
            "bn2c_branch2a (BatchNormalizati (None, 38, 38, 64)   256         res2c_branch2a[0][0]             \n",
            "__________________________________________________________________________________________________\n",
            "activation_7 (Activation)       (None, 38, 38, 64)   0           bn2c_branch2a[0][0]              \n",
            "__________________________________________________________________________________________________\n",
            "res2c_branch2b (Conv2D)         (None, 38, 38, 64)   36928       activation_7[0][0]               \n",
            "__________________________________________________________________________________________________\n",
            "bn2c_branch2b (BatchNormalizati (None, 38, 38, 64)   256         res2c_branch2b[0][0]             \n",
            "__________________________________________________________________________________________________\n",
            "activation_8 (Activation)       (None, 38, 38, 64)   0           bn2c_branch2b[0][0]              \n",
            "__________________________________________________________________________________________________\n",
            "res2c_branch2c (Conv2D)         (None, 38, 38, 256)  16640       activation_8[0][0]               \n",
            "__________________________________________________________________________________________________\n",
            "bn2c_branch2c (BatchNormalizati (None, 38, 38, 256)  1024        res2c_branch2c[0][0]             \n",
            "__________________________________________________________________________________________________\n",
            "add_2 (Add)                     (None, 38, 38, 256)  0           bn2c_branch2c[0][0]              \n",
            "                                                                 activation_6[0][0]               \n",
            "__________________________________________________________________________________________________\n",
            "activation_9 (Activation)       (None, 38, 38, 256)  0           add_2[0][0]                      \n",
            "__________________________________________________________________________________________________\n",
            "res3a_branch2a (Conv2D)         (None, 19, 19, 128)  32896       activation_9[0][0]               \n",
            "__________________________________________________________________________________________________\n",
            "bn3a_branch2a (BatchNormalizati (None, 19, 19, 128)  512         res3a_branch2a[0][0]             \n",
            "__________________________________________________________________________________________________\n",
            "activation_10 (Activation)      (None, 19, 19, 128)  0           bn3a_branch2a[0][0]              \n",
            "__________________________________________________________________________________________________\n",
            "res3a_branch2b (Conv2D)         (None, 19, 19, 128)  147584      activation_10[0][0]              \n",
            "__________________________________________________________________________________________________\n",
            "bn3a_branch2b (BatchNormalizati (None, 19, 19, 128)  512         res3a_branch2b[0][0]             \n",
            "__________________________________________________________________________________________________\n",
            "activation_11 (Activation)      (None, 19, 19, 128)  0           bn3a_branch2b[0][0]              \n",
            "__________________________________________________________________________________________________\n",
            "res3a_branch2c (Conv2D)         (None, 19, 19, 512)  66048       activation_11[0][0]              \n",
            "__________________________________________________________________________________________________\n",
            "res3a_branch1 (Conv2D)          (None, 19, 19, 512)  131584      activation_9[0][0]               \n",
            "__________________________________________________________________________________________________\n",
            "bn3a_branch2c (BatchNormalizati (None, 19, 19, 512)  2048        res3a_branch2c[0][0]             \n",
            "__________________________________________________________________________________________________\n",
            "bn3a_branch1 (BatchNormalizatio (None, 19, 19, 512)  2048        res3a_branch1[0][0]              \n",
            "__________________________________________________________________________________________________\n",
            "add_3 (Add)                     (None, 19, 19, 512)  0           bn3a_branch2c[0][0]              \n",
            "                                                                 bn3a_branch1[0][0]               \n",
            "__________________________________________________________________________________________________\n",
            "activation_12 (Activation)      (None, 19, 19, 512)  0           add_3[0][0]                      \n",
            "__________________________________________________________________________________________________\n",
            "res3b_branch2a (Conv2D)         (None, 19, 19, 128)  65664       activation_12[0][0]              \n",
            "__________________________________________________________________________________________________\n",
            "bn3b_branch2a (BatchNormalizati (None, 19, 19, 128)  512         res3b_branch2a[0][0]             \n",
            "__________________________________________________________________________________________________\n",
            "activation_13 (Activation)      (None, 19, 19, 128)  0           bn3b_branch2a[0][0]              \n",
            "__________________________________________________________________________________________________\n",
            "res3b_branch2b (Conv2D)         (None, 19, 19, 128)  147584      activation_13[0][0]              \n",
            "__________________________________________________________________________________________________\n",
            "bn3b_branch2b (BatchNormalizati (None, 19, 19, 128)  512         res3b_branch2b[0][0]             \n",
            "__________________________________________________________________________________________________\n",
            "activation_14 (Activation)      (None, 19, 19, 128)  0           bn3b_branch2b[0][0]              \n",
            "__________________________________________________________________________________________________\n",
            "res3b_branch2c (Conv2D)         (None, 19, 19, 512)  66048       activation_14[0][0]              \n",
            "__________________________________________________________________________________________________\n",
            "bn3b_branch2c (BatchNormalizati (None, 19, 19, 512)  2048        res3b_branch2c[0][0]             \n",
            "__________________________________________________________________________________________________\n",
            "add_4 (Add)                     (None, 19, 19, 512)  0           bn3b_branch2c[0][0]              \n",
            "                                                                 activation_12[0][0]              \n",
            "__________________________________________________________________________________________________\n",
            "activation_15 (Activation)      (None, 19, 19, 512)  0           add_4[0][0]                      \n",
            "__________________________________________________________________________________________________\n",
            "res3c_branch2a (Conv2D)         (None, 19, 19, 128)  65664       activation_15[0][0]              \n",
            "__________________________________________________________________________________________________\n",
            "bn3c_branch2a (BatchNormalizati (None, 19, 19, 128)  512         res3c_branch2a[0][0]             \n",
            "__________________________________________________________________________________________________\n",
            "activation_16 (Activation)      (None, 19, 19, 128)  0           bn3c_branch2a[0][0]              \n",
            "__________________________________________________________________________________________________\n",
            "res3c_branch2b (Conv2D)         (None, 19, 19, 128)  147584      activation_16[0][0]              \n",
            "__________________________________________________________________________________________________\n",
            "bn3c_branch2b (BatchNormalizati (None, 19, 19, 128)  512         res3c_branch2b[0][0]             \n",
            "__________________________________________________________________________________________________\n",
            "activation_17 (Activation)      (None, 19, 19, 128)  0           bn3c_branch2b[0][0]              \n",
            "__________________________________________________________________________________________________\n",
            "res3c_branch2c (Conv2D)         (None, 19, 19, 512)  66048       activation_17[0][0]              \n",
            "__________________________________________________________________________________________________\n",
            "bn3c_branch2c (BatchNormalizati (None, 19, 19, 512)  2048        res3c_branch2c[0][0]             \n",
            "__________________________________________________________________________________________________\n",
            "add_5 (Add)                     (None, 19, 19, 512)  0           bn3c_branch2c[0][0]              \n",
            "                                                                 activation_15[0][0]              \n",
            "__________________________________________________________________________________________________\n",
            "activation_18 (Activation)      (None, 19, 19, 512)  0           add_5[0][0]                      \n",
            "__________________________________________________________________________________________________\n",
            "res3d_branch2a (Conv2D)         (None, 19, 19, 128)  65664       activation_18[0][0]              \n",
            "__________________________________________________________________________________________________\n",
            "bn3d_branch2a (BatchNormalizati (None, 19, 19, 128)  512         res3d_branch2a[0][0]             \n",
            "__________________________________________________________________________________________________\n",
            "activation_19 (Activation)      (None, 19, 19, 128)  0           bn3d_branch2a[0][0]              \n",
            "__________________________________________________________________________________________________\n",
            "res3d_branch2b (Conv2D)         (None, 19, 19, 128)  147584      activation_19[0][0]              \n",
            "__________________________________________________________________________________________________\n",
            "bn3d_branch2b (BatchNormalizati (None, 19, 19, 128)  512         res3d_branch2b[0][0]             \n",
            "__________________________________________________________________________________________________\n",
            "activation_20 (Activation)      (None, 19, 19, 128)  0           bn3d_branch2b[0][0]              \n",
            "__________________________________________________________________________________________________\n",
            "res3d_branch2c (Conv2D)         (None, 19, 19, 512)  66048       activation_20[0][0]              \n",
            "__________________________________________________________________________________________________\n",
            "bn3d_branch2c (BatchNormalizati (None, 19, 19, 512)  2048        res3d_branch2c[0][0]             \n",
            "__________________________________________________________________________________________________\n",
            "add_6 (Add)                     (None, 19, 19, 512)  0           bn3d_branch2c[0][0]              \n",
            "                                                                 activation_18[0][0]              \n",
            "__________________________________________________________________________________________________\n",
            "activation_21 (Activation)      (None, 19, 19, 512)  0           add_6[0][0]                      \n",
            "__________________________________________________________________________________________________\n",
            "res4a_branch2a (Conv2D)         (None, 10, 10, 256)  131328      activation_21[0][0]              \n",
            "__________________________________________________________________________________________________\n",
            "bn4a_branch2a (BatchNormalizati (None, 10, 10, 256)  1024        res4a_branch2a[0][0]             \n",
            "__________________________________________________________________________________________________\n",
            "activation_22 (Activation)      (None, 10, 10, 256)  0           bn4a_branch2a[0][0]              \n",
            "__________________________________________________________________________________________________\n",
            "res4a_branch2b (Conv2D)         (None, 10, 10, 256)  590080      activation_22[0][0]              \n",
            "__________________________________________________________________________________________________\n",
            "bn4a_branch2b (BatchNormalizati (None, 10, 10, 256)  1024        res4a_branch2b[0][0]             \n",
            "__________________________________________________________________________________________________\n",
            "activation_23 (Activation)      (None, 10, 10, 256)  0           bn4a_branch2b[0][0]              \n",
            "__________________________________________________________________________________________________\n",
            "res4a_branch2c (Conv2D)         (None, 10, 10, 1024) 263168      activation_23[0][0]              \n",
            "__________________________________________________________________________________________________\n",
            "res4a_branch1 (Conv2D)          (None, 10, 10, 1024) 525312      activation_21[0][0]              \n",
            "__________________________________________________________________________________________________\n",
            "bn4a_branch2c (BatchNormalizati (None, 10, 10, 1024) 4096        res4a_branch2c[0][0]             \n",
            "__________________________________________________________________________________________________\n",
            "bn4a_branch1 (BatchNormalizatio (None, 10, 10, 1024) 4096        res4a_branch1[0][0]              \n",
            "__________________________________________________________________________________________________\n",
            "add_7 (Add)                     (None, 10, 10, 1024) 0           bn4a_branch2c[0][0]              \n",
            "                                                                 bn4a_branch1[0][0]               \n",
            "__________________________________________________________________________________________________\n",
            "activation_24 (Activation)      (None, 10, 10, 1024) 0           add_7[0][0]                      \n",
            "__________________________________________________________________________________________________\n",
            "res4b_branch2a (Conv2D)         (None, 10, 10, 256)  262400      activation_24[0][0]              \n",
            "__________________________________________________________________________________________________\n",
            "bn4b_branch2a (BatchNormalizati (None, 10, 10, 256)  1024        res4b_branch2a[0][0]             \n",
            "__________________________________________________________________________________________________\n",
            "activation_25 (Activation)      (None, 10, 10, 256)  0           bn4b_branch2a[0][0]              \n",
            "__________________________________________________________________________________________________\n",
            "res4b_branch2b (Conv2D)         (None, 10, 10, 256)  590080      activation_25[0][0]              \n",
            "__________________________________________________________________________________________________\n",
            "bn4b_branch2b (BatchNormalizati (None, 10, 10, 256)  1024        res4b_branch2b[0][0]             \n",
            "__________________________________________________________________________________________________\n",
            "activation_26 (Activation)      (None, 10, 10, 256)  0           bn4b_branch2b[0][0]              \n",
            "__________________________________________________________________________________________________\n",
            "res4b_branch2c (Conv2D)         (None, 10, 10, 1024) 263168      activation_26[0][0]              \n",
            "__________________________________________________________________________________________________\n",
            "bn4b_branch2c (BatchNormalizati (None, 10, 10, 1024) 4096        res4b_branch2c[0][0]             \n",
            "__________________________________________________________________________________________________\n",
            "add_8 (Add)                     (None, 10, 10, 1024) 0           bn4b_branch2c[0][0]              \n",
            "                                                                 activation_24[0][0]              \n",
            "__________________________________________________________________________________________________\n",
            "activation_27 (Activation)      (None, 10, 10, 1024) 0           add_8[0][0]                      \n",
            "__________________________________________________________________________________________________\n",
            "res4c_branch2a (Conv2D)         (None, 10, 10, 256)  262400      activation_27[0][0]              \n",
            "__________________________________________________________________________________________________\n",
            "bn4c_branch2a (BatchNormalizati (None, 10, 10, 256)  1024        res4c_branch2a[0][0]             \n",
            "__________________________________________________________________________________________________\n",
            "activation_28 (Activation)      (None, 10, 10, 256)  0           bn4c_branch2a[0][0]              \n",
            "__________________________________________________________________________________________________\n",
            "res4c_branch2b (Conv2D)         (None, 10, 10, 256)  590080      activation_28[0][0]              \n",
            "__________________________________________________________________________________________________\n",
            "bn4c_branch2b (BatchNormalizati (None, 10, 10, 256)  1024        res4c_branch2b[0][0]             \n",
            "__________________________________________________________________________________________________\n",
            "activation_29 (Activation)      (None, 10, 10, 256)  0           bn4c_branch2b[0][0]              \n",
            "__________________________________________________________________________________________________\n",
            "res4c_branch2c (Conv2D)         (None, 10, 10, 1024) 263168      activation_29[0][0]              \n",
            "__________________________________________________________________________________________________\n",
            "bn4c_branch2c (BatchNormalizati (None, 10, 10, 1024) 4096        res4c_branch2c[0][0]             \n",
            "__________________________________________________________________________________________________\n",
            "add_9 (Add)                     (None, 10, 10, 1024) 0           bn4c_branch2c[0][0]              \n",
            "                                                                 activation_27[0][0]              \n",
            "__________________________________________________________________________________________________\n",
            "activation_30 (Activation)      (None, 10, 10, 1024) 0           add_9[0][0]                      \n",
            "__________________________________________________________________________________________________\n",
            "res4d_branch2a (Conv2D)         (None, 10, 10, 256)  262400      activation_30[0][0]              \n",
            "__________________________________________________________________________________________________\n",
            "bn4d_branch2a (BatchNormalizati (None, 10, 10, 256)  1024        res4d_branch2a[0][0]             \n",
            "__________________________________________________________________________________________________\n",
            "activation_31 (Activation)      (None, 10, 10, 256)  0           bn4d_branch2a[0][0]              \n",
            "__________________________________________________________________________________________________\n",
            "res4d_branch2b (Conv2D)         (None, 10, 10, 256)  590080      activation_31[0][0]              \n",
            "__________________________________________________________________________________________________\n",
            "bn4d_branch2b (BatchNormalizati (None, 10, 10, 256)  1024        res4d_branch2b[0][0]             \n",
            "__________________________________________________________________________________________________\n",
            "activation_32 (Activation)      (None, 10, 10, 256)  0           bn4d_branch2b[0][0]              \n",
            "__________________________________________________________________________________________________\n",
            "res4d_branch2c (Conv2D)         (None, 10, 10, 1024) 263168      activation_32[0][0]              \n",
            "__________________________________________________________________________________________________\n",
            "bn4d_branch2c (BatchNormalizati (None, 10, 10, 1024) 4096        res4d_branch2c[0][0]             \n",
            "__________________________________________________________________________________________________\n",
            "add_10 (Add)                    (None, 10, 10, 1024) 0           bn4d_branch2c[0][0]              \n",
            "                                                                 activation_30[0][0]              \n",
            "__________________________________________________________________________________________________\n",
            "activation_33 (Activation)      (None, 10, 10, 1024) 0           add_10[0][0]                     \n",
            "__________________________________________________________________________________________________\n",
            "res4e_branch2a (Conv2D)         (None, 10, 10, 256)  262400      activation_33[0][0]              \n",
            "__________________________________________________________________________________________________\n",
            "bn4e_branch2a (BatchNormalizati (None, 10, 10, 256)  1024        res4e_branch2a[0][0]             \n",
            "__________________________________________________________________________________________________\n",
            "activation_34 (Activation)      (None, 10, 10, 256)  0           bn4e_branch2a[0][0]              \n",
            "__________________________________________________________________________________________________\n",
            "res4e_branch2b (Conv2D)         (None, 10, 10, 256)  590080      activation_34[0][0]              \n",
            "__________________________________________________________________________________________________\n",
            "bn4e_branch2b (BatchNormalizati (None, 10, 10, 256)  1024        res4e_branch2b[0][0]             \n",
            "__________________________________________________________________________________________________\n",
            "activation_35 (Activation)      (None, 10, 10, 256)  0           bn4e_branch2b[0][0]              \n",
            "__________________________________________________________________________________________________\n",
            "res4e_branch2c (Conv2D)         (None, 10, 10, 1024) 263168      activation_35[0][0]              \n",
            "__________________________________________________________________________________________________\n",
            "bn4e_branch2c (BatchNormalizati (None, 10, 10, 1024) 4096        res4e_branch2c[0][0]             \n",
            "__________________________________________________________________________________________________\n",
            "add_11 (Add)                    (None, 10, 10, 1024) 0           bn4e_branch2c[0][0]              \n",
            "                                                                 activation_33[0][0]              \n",
            "__________________________________________________________________________________________________\n",
            "activation_36 (Activation)      (None, 10, 10, 1024) 0           add_11[0][0]                     \n",
            "__________________________________________________________________________________________________\n",
            "res4f_branch2a (Conv2D)         (None, 10, 10, 256)  262400      activation_36[0][0]              \n",
            "__________________________________________________________________________________________________\n",
            "bn4f_branch2a (BatchNormalizati (None, 10, 10, 256)  1024        res4f_branch2a[0][0]             \n",
            "__________________________________________________________________________________________________\n",
            "activation_37 (Activation)      (None, 10, 10, 256)  0           bn4f_branch2a[0][0]              \n",
            "__________________________________________________________________________________________________\n",
            "res4f_branch2b (Conv2D)         (None, 10, 10, 256)  590080      activation_37[0][0]              \n",
            "__________________________________________________________________________________________________\n",
            "bn4f_branch2b (BatchNormalizati (None, 10, 10, 256)  1024        res4f_branch2b[0][0]             \n",
            "__________________________________________________________________________________________________\n",
            "activation_38 (Activation)      (None, 10, 10, 256)  0           bn4f_branch2b[0][0]              \n",
            "__________________________________________________________________________________________________\n",
            "res4f_branch2c (Conv2D)         (None, 10, 10, 1024) 263168      activation_38[0][0]              \n",
            "__________________________________________________________________________________________________\n",
            "bn4f_branch2c (BatchNormalizati (None, 10, 10, 1024) 4096        res4f_branch2c[0][0]             \n",
            "__________________________________________________________________________________________________\n",
            "add_12 (Add)                    (None, 10, 10, 1024) 0           bn4f_branch2c[0][0]              \n",
            "                                                                 activation_36[0][0]              \n",
            "__________________________________________________________________________________________________\n",
            "activation_39 (Activation)      (None, 10, 10, 1024) 0           add_12[0][0]                     \n",
            "__________________________________________________________________________________________________\n",
            "res5a_branch2a (Conv2D)         (None, 5, 5, 512)    524800      activation_39[0][0]              \n",
            "__________________________________________________________________________________________________\n",
            "bn5a_branch2a (BatchNormalizati (None, 5, 5, 512)    2048        res5a_branch2a[0][0]             \n",
            "__________________________________________________________________________________________________\n",
            "activation_40 (Activation)      (None, 5, 5, 512)    0           bn5a_branch2a[0][0]              \n",
            "__________________________________________________________________________________________________\n",
            "res5a_branch2b (Conv2D)         (None, 5, 5, 512)    2359808     activation_40[0][0]              \n",
            "__________________________________________________________________________________________________\n",
            "bn5a_branch2b (BatchNormalizati (None, 5, 5, 512)    2048        res5a_branch2b[0][0]             \n",
            "__________________________________________________________________________________________________\n",
            "activation_41 (Activation)      (None, 5, 5, 512)    0           bn5a_branch2b[0][0]              \n",
            "__________________________________________________________________________________________________\n",
            "res5a_branch2c (Conv2D)         (None, 5, 5, 2048)   1050624     activation_41[0][0]              \n",
            "__________________________________________________________________________________________________\n",
            "res5a_branch1 (Conv2D)          (None, 5, 5, 2048)   2099200     activation_39[0][0]              \n",
            "__________________________________________________________________________________________________\n",
            "bn5a_branch2c (BatchNormalizati (None, 5, 5, 2048)   8192        res5a_branch2c[0][0]             \n",
            "__________________________________________________________________________________________________\n",
            "bn5a_branch1 (BatchNormalizatio (None, 5, 5, 2048)   8192        res5a_branch1[0][0]              \n",
            "__________________________________________________________________________________________________\n",
            "add_13 (Add)                    (None, 5, 5, 2048)   0           bn5a_branch2c[0][0]              \n",
            "                                                                 bn5a_branch1[0][0]               \n",
            "__________________________________________________________________________________________________\n",
            "activation_42 (Activation)      (None, 5, 5, 2048)   0           add_13[0][0]                     \n",
            "__________________________________________________________________________________________________\n",
            "res5b_branch2a (Conv2D)         (None, 5, 5, 512)    1049088     activation_42[0][0]              \n",
            "__________________________________________________________________________________________________\n",
            "bn5b_branch2a (BatchNormalizati (None, 5, 5, 512)    2048        res5b_branch2a[0][0]             \n",
            "__________________________________________________________________________________________________\n",
            "activation_43 (Activation)      (None, 5, 5, 512)    0           bn5b_branch2a[0][0]              \n",
            "__________________________________________________________________________________________________\n",
            "res5b_branch2b (Conv2D)         (None, 5, 5, 512)    2359808     activation_43[0][0]              \n",
            "__________________________________________________________________________________________________\n",
            "bn5b_branch2b (BatchNormalizati (None, 5, 5, 512)    2048        res5b_branch2b[0][0]             \n",
            "__________________________________________________________________________________________________\n",
            "activation_44 (Activation)      (None, 5, 5, 512)    0           bn5b_branch2b[0][0]              \n",
            "__________________________________________________________________________________________________\n",
            "res5b_branch2c (Conv2D)         (None, 5, 5, 2048)   1050624     activation_44[0][0]              \n",
            "__________________________________________________________________________________________________\n",
            "bn5b_branch2c (BatchNormalizati (None, 5, 5, 2048)   8192        res5b_branch2c[0][0]             \n",
            "__________________________________________________________________________________________________\n",
            "add_14 (Add)                    (None, 5, 5, 2048)   0           bn5b_branch2c[0][0]              \n",
            "                                                                 activation_42[0][0]              \n",
            "__________________________________________________________________________________________________\n",
            "activation_45 (Activation)      (None, 5, 5, 2048)   0           add_14[0][0]                     \n",
            "__________________________________________________________________________________________________\n",
            "res5c_branch2a (Conv2D)         (None, 5, 5, 512)    1049088     activation_45[0][0]              \n",
            "__________________________________________________________________________________________________\n",
            "bn5c_branch2a (BatchNormalizati (None, 5, 5, 512)    2048        res5c_branch2a[0][0]             \n",
            "__________________________________________________________________________________________________\n",
            "activation_46 (Activation)      (None, 5, 5, 512)    0           bn5c_branch2a[0][0]              \n",
            "__________________________________________________________________________________________________\n",
            "res5c_branch2b (Conv2D)         (None, 5, 5, 512)    2359808     activation_46[0][0]              \n",
            "__________________________________________________________________________________________________\n",
            "bn5c_branch2b (BatchNormalizati (None, 5, 5, 512)    2048        res5c_branch2b[0][0]             \n",
            "__________________________________________________________________________________________________\n",
            "activation_47 (Activation)      (None, 5, 5, 512)    0           bn5c_branch2b[0][0]              \n",
            "__________________________________________________________________________________________________\n",
            "res5c_branch2c (Conv2D)         (None, 5, 5, 2048)   1050624     activation_47[0][0]              \n",
            "__________________________________________________________________________________________________\n",
            "bn5c_branch2c (BatchNormalizati (None, 5, 5, 2048)   8192        res5c_branch2c[0][0]             \n",
            "__________________________________________________________________________________________________\n",
            "add_15 (Add)                    (None, 5, 5, 2048)   0           bn5c_branch2c[0][0]              \n",
            "                                                                 activation_45[0][0]              \n",
            "__________________________________________________________________________________________________\n",
            "activation_48 (Activation)      (None, 5, 5, 2048)   0           add_15[0][0]                     \n",
            "==================================================================================================\n",
            "Total params: 23,587,712\n",
            "Trainable params: 23,534,592\n",
            "Non-trainable params: 53,120\n",
            "__________________________________________________________________________________________________\n"
          ],
          "name": "stdout"
        }
      ]
    },
    {
      "metadata": {
        "id": "TxGSnkmWon9b",
        "colab_type": "code",
        "colab": {}
      },
      "cell_type": "code",
      "source": [
        "TARGET_SHAPE = 150 \n",
        "BATCH_SIZE = 32"
      ],
      "execution_count": 0,
      "outputs": []
    },
    {
      "metadata": {
        "id": "BWovT8Pqo_a6",
        "colab_type": "code",
        "outputId": "8b5dd7ae-baec-4e8e-f30c-f3986c64bbef",
        "colab": {
          "base_uri": "https://localhost:8080/",
          "height": 51
        }
      },
      "cell_type": "code",
      "source": [
        "datagen = ImageDataGenerator(rescale=1./255)\n",
        "\n",
        "def extract_features(directory, sample_count):\n",
        "    features = np.zeros(shape=(sample_count, 5, 5, 2048))\n",
        "    labels = np.zeros(shape=(sample_count))\n",
        "    generator = datagen.flow_from_directory(\n",
        "        directory,\n",
        "        target_size=(TARGET_SHAPE, TARGET_SHAPE),\n",
        "        batch_size=BATCH_SIZE,\n",
        "        class_mode='binary')\n",
        "    i = 0\n",
        "    for inputs_batch, labels_batch in generator:\n",
        "      \n",
        "        features_batch = conv_base.predict(inputs_batch)\n",
        "        # print(features_batch.shape)\n",
        "        # (32, 4, 4, 512)\n",
        "        # Think: batch_size, rows, cols, channels\n",
        "        \n",
        "        features[i * BATCH_SIZE : (i + 1) * BATCH_SIZE] = features_batch\n",
        "        labels[i * BATCH_SIZE : (i + 1) * BATCH_SIZE] = labels_batch\n",
        "        i += 1\n",
        "        if i * BATCH_SIZE >= sample_count:\n",
        "            # Note that since generators yield data indefinitely in a loop,\n",
        "            # we must `break` after every image has been seen once.\n",
        "            break\n",
        "    return features, labels\n",
        "\n",
        "train_features, train_labels = extract_features(train_dir, 1000)\n",
        "validation_features, validation_labels = extract_features(validation_dir, 500)"
      ],
      "execution_count": 0,
      "outputs": [
        {
          "output_type": "stream",
          "text": [
            "Found 1000 images belonging to 5 classes.\n",
            "Found 500 images belonging to 5 classes.\n"
          ],
          "name": "stdout"
        }
      ]
    },
    {
      "metadata": {
        "id": "c9w1ZS63pKC0",
        "colab_type": "code",
        "colab": {}
      },
      "cell_type": "code",
      "source": [
        "FLATTENED_SHAPE = 5 * 5 * 2048\n",
        "\n",
        "train_features = np.reshape(train_features, (total_train, FLATTENED_SHAPE))\n",
        "validation_features = np.reshape(validation_features, (total_val, FLATTENED_SHAPE))"
      ],
      "execution_count": 0,
      "outputs": []
    },
    {
      "metadata": {
        "id": "F3EUjFAkpMkd",
        "colab_type": "code",
        "colab": {}
      },
      "cell_type": "code",
      "source": [
        "EPOCHS = 50"
      ],
      "execution_count": 0,
      "outputs": []
    },
    {
      "metadata": {
        "id": "jULCM5EIpOjM",
        "colab_type": "code",
        "outputId": "78d0e945-f360-4b0f-e358-ad3b200a8047",
        "colab": {
          "base_uri": "https://localhost:8080/",
          "height": 1734
        }
      },
      "cell_type": "code",
      "source": [
        "model = Sequential()\n",
        "model.add(Dense(256, activation='relu', input_dim=FLATTENED_SHAPE))\n",
        "model.add(Dropout(0.5))\n",
        "model.add(Dense(256, activation='relu'))\n",
        "model.add(Dropout(0.5))\n",
        "model.add(Dense(10, activation='softmax'))\n",
        "\n",
        "model.compile(optimizer='adam',\n",
        "              loss='sparse_categorical_crossentropy',\n",
        "              metrics=['acc'])\n",
        "\n",
        "history = model.fit(train_features, train_labels,\n",
        "                    epochs=EPOCHS,\n",
        "                    batch_size=BATCH_SIZE,\n",
        "                    validation_data=(validation_features, validation_labels))"
      ],
      "execution_count": 0,
      "outputs": [
        {
          "output_type": "stream",
          "text": [
            "Train on 1000 samples, validate on 500 samples\n",
            "Epoch 1/50\n",
            "1000/1000 [==============================] - 8s 8ms/sample - loss: 2.5472 - acc: 0.1830 - val_loss: 1.8921 - val_acc: 0.2200\n",
            "Epoch 2/50\n",
            "1000/1000 [==============================] - 7s 7ms/sample - loss: 1.8608 - acc: 0.2050 - val_loss: 1.7009 - val_acc: 0.2340\n",
            "Epoch 3/50\n",
            "1000/1000 [==============================] - 7s 7ms/sample - loss: 1.8347 - acc: 0.1860 - val_loss: 1.6889 - val_acc: 0.2580\n",
            "Epoch 4/50\n",
            "1000/1000 [==============================] - 7s 7ms/sample - loss: 1.7894 - acc: 0.1840 - val_loss: 1.6316 - val_acc: 0.2860\n",
            "Epoch 5/50\n",
            "1000/1000 [==============================] - 7s 7ms/sample - loss: 1.7384 - acc: 0.2050 - val_loss: 1.6383 - val_acc: 0.3420\n",
            "Epoch 6/50\n",
            "1000/1000 [==============================] - 7s 7ms/sample - loss: 1.7172 - acc: 0.2190 - val_loss: 1.6492 - val_acc: 0.2880\n",
            "Epoch 7/50\n",
            "1000/1000 [==============================] - 7s 7ms/sample - loss: 1.6973 - acc: 0.2310 - val_loss: 1.6616 - val_acc: 0.2560\n",
            "Epoch 8/50\n",
            "1000/1000 [==============================] - 7s 7ms/sample - loss: 1.7169 - acc: 0.1910 - val_loss: 1.6402 - val_acc: 0.2300\n",
            "Epoch 9/50\n",
            "1000/1000 [==============================] - 7s 7ms/sample - loss: 1.6957 - acc: 0.2000 - val_loss: 1.6754 - val_acc: 0.2120\n",
            "Epoch 10/50\n",
            "1000/1000 [==============================] - 7s 7ms/sample - loss: 1.6611 - acc: 0.2070 - val_loss: 1.6078 - val_acc: 0.2400\n",
            "Epoch 11/50\n",
            "1000/1000 [==============================] - 7s 7ms/sample - loss: 1.6306 - acc: 0.2180 - val_loss: 1.5965 - val_acc: 0.2420\n",
            "Epoch 12/50\n",
            "1000/1000 [==============================] - 7s 7ms/sample - loss: 1.6356 - acc: 0.2060 - val_loss: 1.5789 - val_acc: 0.2960\n",
            "Epoch 13/50\n",
            "1000/1000 [==============================] - 7s 7ms/sample - loss: 1.6188 - acc: 0.1780 - val_loss: 1.5728 - val_acc: 0.2940\n",
            "Epoch 14/50\n",
            "1000/1000 [==============================] - 7s 7ms/sample - loss: 1.6193 - acc: 0.2200 - val_loss: 1.6219 - val_acc: 0.2020\n",
            "Epoch 15/50\n",
            "1000/1000 [==============================] - 8s 8ms/sample - loss: 1.6183 - acc: 0.2370 - val_loss: 1.5573 - val_acc: 0.2440\n",
            "Epoch 16/50\n",
            "1000/1000 [==============================] - 7s 7ms/sample - loss: 1.6025 - acc: 0.2090 - val_loss: 1.5979 - val_acc: 0.2380\n",
            "Epoch 17/50\n",
            "1000/1000 [==============================] - 7s 7ms/sample - loss: 1.6036 - acc: 0.2170 - val_loss: 1.5879 - val_acc: 0.2520\n",
            "Epoch 18/50\n",
            "1000/1000 [==============================] - 7s 7ms/sample - loss: 1.5865 - acc: 0.2250 - val_loss: 1.5684 - val_acc: 0.2960\n",
            "Epoch 19/50\n",
            "1000/1000 [==============================] - 7s 7ms/sample - loss: 1.6064 - acc: 0.2200 - val_loss: 1.6146 - val_acc: 0.2040\n",
            "Epoch 20/50\n",
            "1000/1000 [==============================] - 7s 7ms/sample - loss: 1.6211 - acc: 0.2030 - val_loss: 1.6152 - val_acc: 0.2000\n",
            "Epoch 21/50\n",
            "1000/1000 [==============================] - 7s 7ms/sample - loss: 1.6165 - acc: 0.2110 - val_loss: 1.6142 - val_acc: 0.2000\n",
            "Epoch 22/50\n",
            "1000/1000 [==============================] - 7s 7ms/sample - loss: 1.6256 - acc: 0.1760 - val_loss: 1.6136 - val_acc: 0.2000\n",
            "Epoch 23/50\n",
            "1000/1000 [==============================] - 7s 7ms/sample - loss: 1.6162 - acc: 0.1940 - val_loss: 1.6107 - val_acc: 0.2340\n",
            "Epoch 24/50\n",
            "1000/1000 [==============================] - 7s 7ms/sample - loss: 1.6192 - acc: 0.2040 - val_loss: 1.6129 - val_acc: 0.2000\n",
            "Epoch 25/50\n",
            "1000/1000 [==============================] - 7s 7ms/sample - loss: 1.6129 - acc: 0.2180 - val_loss: 1.6094 - val_acc: 0.2040\n",
            "Epoch 26/50\n",
            "1000/1000 [==============================] - 7s 7ms/sample - loss: 1.6202 - acc: 0.2080 - val_loss: 1.6126 - val_acc: 0.2000\n",
            "Epoch 27/50\n",
            "1000/1000 [==============================] - 7s 7ms/sample - loss: 1.6223 - acc: 0.1840 - val_loss: 1.6122 - val_acc: 0.2000\n",
            "Epoch 28/50\n",
            "1000/1000 [==============================] - 7s 7ms/sample - loss: 1.6213 - acc: 0.1950 - val_loss: 1.6120 - val_acc: 0.1980\n",
            "Epoch 29/50\n",
            "1000/1000 [==============================] - 7s 7ms/sample - loss: 1.6220 - acc: 0.1720 - val_loss: 1.6121 - val_acc: 0.2000\n",
            "Epoch 30/50\n",
            "1000/1000 [==============================] - 7s 7ms/sample - loss: 1.6227 - acc: 0.1660 - val_loss: 1.6117 - val_acc: 0.2000\n",
            "Epoch 31/50\n",
            "1000/1000 [==============================] - 7s 7ms/sample - loss: 1.6160 - acc: 0.1960 - val_loss: 1.6110 - val_acc: 0.2000\n",
            "Epoch 32/50\n",
            "1000/1000 [==============================] - 7s 7ms/sample - loss: 1.6175 - acc: 0.1850 - val_loss: 1.6075 - val_acc: 0.2060\n",
            "Epoch 33/50\n",
            "1000/1000 [==============================] - 7s 7ms/sample - loss: 1.6168 - acc: 0.1850 - val_loss: 1.5696 - val_acc: 0.2780\n",
            "Epoch 34/50\n",
            "1000/1000 [==============================] - 7s 7ms/sample - loss: 1.6076 - acc: 0.2020 - val_loss: 1.5787 - val_acc: 0.2500\n",
            "Epoch 35/50\n",
            "1000/1000 [==============================] - 7s 7ms/sample - loss: 1.5808 - acc: 0.2260 - val_loss: 1.5328 - val_acc: 0.3320\n",
            "Epoch 36/50\n",
            "1000/1000 [==============================] - 7s 7ms/sample - loss: 1.6087 - acc: 0.2080 - val_loss: 1.6127 - val_acc: 0.2020\n",
            "Epoch 37/50\n",
            "1000/1000 [==============================] - 7s 7ms/sample - loss: 1.6157 - acc: 0.2040 - val_loss: 1.5989 - val_acc: 0.2280\n",
            "Epoch 38/50\n",
            "1000/1000 [==============================] - 7s 7ms/sample - loss: 1.5649 - acc: 0.2360 - val_loss: 1.5333 - val_acc: 0.3160\n",
            "Epoch 39/50\n",
            "1000/1000 [==============================] - 7s 7ms/sample - loss: 1.5817 - acc: 0.2340 - val_loss: 1.5763 - val_acc: 0.2500\n",
            "Epoch 40/50\n",
            "1000/1000 [==============================] - 7s 7ms/sample - loss: 1.5886 - acc: 0.2450 - val_loss: 1.5686 - val_acc: 0.2740\n",
            "Epoch 41/50\n",
            "1000/1000 [==============================] - 7s 7ms/sample - loss: 1.5771 - acc: 0.2430 - val_loss: 1.5184 - val_acc: 0.3400\n",
            "Epoch 42/50\n",
            "1000/1000 [==============================] - 7s 7ms/sample - loss: 1.5723 - acc: 0.2360 - val_loss: 1.5212 - val_acc: 0.3180\n",
            "Epoch 43/50\n",
            "1000/1000 [==============================] - 7s 7ms/sample - loss: 1.5799 - acc: 0.2160 - val_loss: 1.5106 - val_acc: 0.3500\n",
            "Epoch 44/50\n",
            "1000/1000 [==============================] - 7s 7ms/sample - loss: 1.5794 - acc: 0.2330 - val_loss: 1.5170 - val_acc: 0.3320\n",
            "Epoch 45/50\n",
            "1000/1000 [==============================] - 7s 7ms/sample - loss: 1.5857 - acc: 0.2230 - val_loss: 1.5649 - val_acc: 0.2520\n",
            "Epoch 46/50\n",
            "1000/1000 [==============================] - 7s 7ms/sample - loss: 1.5646 - acc: 0.2430 - val_loss: 1.5547 - val_acc: 0.2800\n",
            "Epoch 47/50\n",
            "1000/1000 [==============================] - 7s 7ms/sample - loss: 1.5689 - acc: 0.2530 - val_loss: 1.5622 - val_acc: 0.2680\n",
            "Epoch 48/50\n",
            "1000/1000 [==============================] - 7s 7ms/sample - loss: 1.5754 - acc: 0.2350 - val_loss: 1.5491 - val_acc: 0.2800\n",
            "Epoch 49/50\n",
            "1000/1000 [==============================] - 7s 7ms/sample - loss: 1.6139 - acc: 0.1910 - val_loss: 1.6116 - val_acc: 0.2000\n",
            "Epoch 50/50\n",
            "1000/1000 [==============================] - 7s 7ms/sample - loss: 1.6150 - acc: 0.2130 - val_loss: 1.6105 - val_acc: 0.2000\n"
          ],
          "name": "stdout"
        }
      ]
    },
    {
      "metadata": {
        "id": "Z6-PW4B1pTUs",
        "colab_type": "code",
        "outputId": "ebd1bc7a-87a3-497a-9755-0dc507ff963d",
        "colab": {
          "base_uri": "https://localhost:8080/",
          "height": 498
        }
      },
      "cell_type": "code",
      "source": [
        "acc = history.history['acc']\n",
        "val_acc = history.history['val_acc']\n",
        "\n",
        "loss = history.history['loss']\n",
        "val_loss = history.history['val_loss']\n",
        "\n",
        "epochs_range = range(1, EPOCHS+1)\n",
        "\n",
        "plt.figure(figsize=(8, 8))\n",
        "plt.subplot(1, 2, 1)\n",
        "plt.plot(epochs_range, acc, label='Training Accuracy')\n",
        "plt.plot(epochs_range, val_acc, label='Validation Accuracy')\n",
        "plt.legend(loc='lower right')\n",
        "plt.title('Training and Validation Accuracy')\n",
        "\n",
        "plt.subplot(1, 2, 2)\n",
        "plt.plot(epochs_range, loss, label='Training Loss')\n",
        "plt.plot(epochs_range, val_loss, label='Validation Loss')\n",
        "plt.legend(loc='upper right')\n",
        "plt.title('Training and Validation Loss')\n",
        "plt.show()"
      ],
      "execution_count": 0,
      "outputs": [
        {
          "output_type": "display_data",
          "data": {
            "image/png": "[encoded data removed]",
            "text/plain": [
              "<Figure size 576x576 with 2 Axes>"
            ]
          },
          "metadata": {
            "tags": []
          }
        }
      ]
    },
    {
      "metadata": {
        "id": "PsU88SKvr8Vt",
        "colab_type": "text"
      },
      "cell_type": "markdown",
      "source": [
        "Conclusion : \n",
        "1. I have used three preTrain base - VGG16 , VGG19 and ResNet50. \n",
        "2.  from the above result shows that VGG16 has less parameter and high accuracy "
      ]
    }
  ]
}