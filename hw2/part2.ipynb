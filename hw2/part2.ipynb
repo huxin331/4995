{
  "nbformat": 4,
  "nbformat_minor": 0,
  "metadata": {
    "colab": {
      "name": "part2 (1).ipynb",
      "version": "0.3.2",
      "provenance": [],
      "collapsed_sections": []
    },
    "kernelspec": {
      "name": "python3",
      "display_name": "Python 3"
    }
  },
  "cells": [
    {
      "metadata": {
        "id": "NmbKJw6TsLrS",
        "colab_type": "code",
        "colab": {}
      },
      "cell_type": "code",
      "source": [
        "import matplotlib.pyplot as plt\n",
        "import numpy as np\n",
        "import os\n",
        "\n",
        "# The coe in this notebook should work identically in TF v1 and v2\n",
        "import tensorflow as tf\n",
        "import zipfile\n",
        "\n",
        "from tensorflow.keras.applications import VGG16, VGG19, ResNet50\n",
        "from tensorflow.keras.layers import Conv2D, Dense, Dropout, Flatten, MaxPooling2D\n",
        "from tensorflow.keras.models import Sequential\n",
        "from tensorflow.keras.preprocessing.image import ImageDataGenerator"
      ],
      "execution_count": 0,
      "outputs": []
    },
    {
      "metadata": {
        "id": "ZXSfFd7Q6zg5",
        "colab_type": "text"
      },
      "cell_type": "markdown",
      "source": [
        "google Doc: https://drive.google.com/open?id=16G5cP8Q0-UDzpj_bsLY2a3qYetB-S7CZ"
      ]
    },
    {
      "metadata": {
        "id": "eGHio_EP2L8E",
        "colab_type": "code",
        "outputId": "0bfe3192-2dbb-4655-aa3c-73da719fa27c",
        "colab": {
          "base_uri": "https://localhost:8080/",
          "height": 34
        }
      },
      "cell_type": "code",
      "source": [
        "from google.colab import drive\n",
        "drive.mount('/content/gdrive')"
      ],
      "execution_count": 0,
      "outputs": [
        {
          "output_type": "stream",
          "text": [
            "Drive already mounted at /content/gdrive; to attempt to forcibly remount, call drive.mount(\"/content/gdrive\", force_remount=True).\n"
          ],
          "name": "stdout"
        }
      ]
    },
    {
      "metadata": {
        "id": "zQR2jTax8wOg",
        "colab_type": "code",
        "outputId": "d9ad92fa-1bc1-4e66-afae-52d0bd27f579",
        "colab": {
          "base_uri": "https://localhost:8080/",
          "height": 34
        }
      },
      "cell_type": "code",
      "source": [
        "!ls /content/gdrive/My\\ Drive/hw2/train"
      ],
      "execution_count": 0,
      "outputs": [
        {
          "output_type": "stream",
          "text": [
            "ls: cannot access '/content/gdrive/My Drive/hw2/train': No such file or directory\n"
          ],
          "name": "stdout"
        }
      ]
    },
    {
      "metadata": {
        "id": "SBnIEhKr2fgZ",
        "colab_type": "code",
        "outputId": "c7acff6a-567d-410e-dd07-1918adc60fde",
        "colab": {
          "base_uri": "https://localhost:8080/",
          "height": 1108
        }
      },
      "cell_type": "code",
      "source": [
        "!ffmpeg -i /content/gdrive/My\\ Drive/hw2/IMG_0004.MOV -r 5 /content/gdrive/My\\ Drive/hw2/train/landMark3/Univqq%03d.jpg"
      ],
      "execution_count": 0,
      "outputs": [
        {
          "output_type": "stream",
          "text": [
            "ffmpeg version 3.4.4-0ubuntu0.18.04.1 Copyright (c) 2000-2018 the FFmpeg developers\n",
            "  built with gcc 7 (Ubuntu 7.3.0-16ubuntu3)\n",
            "  configuration: --prefix=/usr --extra-version=0ubuntu0.18.04.1 --toolchain=hardened --libdir=/usr/lib/x86_64-linux-gnu --incdir=/usr/include/x86_64-linux-gnu --enable-gpl --disable-stripping --enable-avresample --enable-avisynth --enable-gnutls --enable-ladspa --enable-libass --enable-libbluray --enable-libbs2b --enable-libcaca --enable-libcdio --enable-libflite --enable-libfontconfig --enable-libfreetype --enable-libfribidi --enable-libgme --enable-libgsm --enable-libmp3lame --enable-libmysofa --enable-libopenjpeg --enable-libopenmpt --enable-libopus --enable-libpulse --enable-librubberband --enable-librsvg --enable-libshine --enable-libsnappy --enable-libsoxr --enable-libspeex --enable-libssh --enable-libtheora --enable-libtwolame --enable-libvorbis --enable-libvpx --enable-libwavpack --enable-libwebp --enable-libx265 --enable-libxml2 --enable-libxvid --enable-libzmq --enable-libzvbi --enable-omx --enable-openal --enable-opengl --enable-sdl2 --enable-libdc1394 --enable-libdrm --enable-libiec61883 --enable-chromaprint --enable-frei0r --enable-libopencv --enable-libx264 --enable-shared\n",
            "  libavutil      55. 78.100 / 55. 78.100\n",
            "  libavcodec     57.107.100 / 57.107.100\n",
            "  libavformat    57. 83.100 / 57. 83.100\n",
            "  libavdevice    57. 10.100 / 57. 10.100\n",
            "  libavfilter     6.107.100 /  6.107.100\n",
            "  libavresample   3.  7.  0 /  3.  7.  0\n",
            "  libswscale      4.  8.100 /  4.  8.100\n",
            "  libswresample   2.  9.100 /  2.  9.100\n",
            "  libpostproc    54.  7.100 / 54.  7.100\n",
            "Input #0, mov,mp4,m4a,3gp,3g2,mj2, from '/content/gdrive/My Drive/hw2/IMG_0004.MOV':\n",
            "  Metadata:\n",
            "    major_brand     : qt  \n",
            "    minor_version   : 0\n",
            "    compatible_brands: qt  \n",
            "    creation_time   : 2019-03-04T19:55:42.000000Z\n",
            "    com.apple.quicktime.make: Apple\n",
            "    com.apple.quicktime.model: iPad (6th generation)\n",
            "    com.apple.quicktime.software: 12.0.1\n",
            "    com.apple.quicktime.creationdate: 2019-03-04T14:55:42-0500\n",
            "  Duration: 00:00:12.11, start: 0.000000, bitrate: 7815 kb/s\n",
            "    Stream #0:0(und): Video: hevc (Main) (hvc1 / 0x31637668), yuv420p(tv, bt709), 1920x1080, 7706 kb/s, 29.97 fps, 29.97 tbr, 600 tbn, 600 tbc (default)\n",
            "    Metadata:\n",
            "      creation_time   : 2019-03-04T19:55:42.000000Z\n",
            "      handler_name    : Core Media Data Handler\n",
            "      encoder         : HEVC\n",
            "    Stream #0:1(und): Audio: aac (LC) (mp4a / 0x6134706D), 44100 Hz, mono, fltp, 90 kb/s (default)\n",
            "    Metadata:\n",
            "      creation_time   : 2019-03-04T19:55:42.000000Z\n",
            "      handler_name    : Core Media Data Handler\n",
            "    Stream #0:2(und): Data: none (mebx / 0x7862656D), 0 kb/s (default)\n",
            "    Metadata:\n",
            "      creation_time   : 2019-03-04T19:55:42.000000Z\n",
            "      handler_name    : Core Media Data Handler\n",
            "    Stream #0:3(und): Data: none (mebx / 0x7862656D), 0 kb/s (default)\n",
            "    Metadata:\n",
            "      creation_time   : 2019-03-04T19:55:42.000000Z\n",
            "      handler_name    : Core Media Data Handler\n",
            "Stream mapping:\n",
            "  Stream #0:0 -> #0:0 (hevc (native) -> mjpeg (native))\n",
            "Press [q] to stop, [?] for help\n",
            "\u001b[1;34m[swscaler @ 0x55c8a6a14000] \u001b[0m\u001b[0;33mdeprecated pixel format used, make sure you did set range correctly\n",
            "\u001b[0mOutput #0, image2, to '/content/gdrive/My Drive/hw2/train/landMark3/Univqq%03d.jpg':\n",
            "  Metadata:\n",
            "    major_brand     : qt  \n",
            "    minor_version   : 0\n",
            "    compatible_brands: qt  \n",
            "    com.apple.quicktime.creationdate: 2019-03-04T14:55:42-0500\n",
            "    com.apple.quicktime.make: Apple\n",
            "    com.apple.quicktime.model: iPad (6th generation)\n",
            "    com.apple.quicktime.software: 12.0.1\n",
            "    encoder         : Lavf57.83.100\n",
            "    Stream #0:0(und): Video: mjpeg, yuvj420p(pc), 1920x1080, q=2-31, 200 kb/s, 5 fps, 5 tbn, 5 tbc (default)\n",
            "    Metadata:\n",
            "      creation_time   : 2019-03-04T19:55:42.000000Z\n",
            "      handler_name    : Core Media Data Handler\n",
            "      encoder         : Lavc57.107.100 mjpeg\n",
            "    Side data:\n",
            "      cpb: bitrate max/min/avg: 0/0/200000 buffer size: 0 vbv_delay: -1\n",
            "frame=   62 fps=6.9 q=24.8 Lsize=N/A time=00:00:12.40 bitrate=N/A dup=0 drop=301 speed=1.38x    \n",
            "video:6469kB audio:0kB subtitle:0kB other streams:0kB global headers:0kB muxing overhead: unknown\n"
          ],
          "name": "stdout"
        }
      ]
    },
    {
      "metadata": {
        "id": "AzDXWWyT5XRj",
        "colab_type": "code",
        "colab": {}
      },
      "cell_type": "code",
      "source": [
        "!cd /content/gdrive/My\\ Drive/"
      ],
      "execution_count": 0,
      "outputs": []
    },
    {
      "metadata": {
        "id": "MsurI6Kp3k7a",
        "colab_type": "code",
        "outputId": "da2263c4-c37c-4efa-ab28-b814868b9b90",
        "colab": {
          "base_uri": "https://localhost:8080/",
          "height": 34
        }
      },
      "cell_type": "code",
      "source": [
        "!pwd\n",
        "\n",
        "\n"
      ],
      "execution_count": 0,
      "outputs": [
        {
          "output_type": "stream",
          "text": [
            "/content\n"
          ],
          "name": "stdout"
        }
      ]
    },
    {
      "metadata": {
        "id": "Ga2tZehftHhV",
        "colab_type": "code",
        "colab": {}
      },
      "cell_type": "code",
      "source": [
        "base_dir = '/content/gdrive/My Drive/hw2'\n",
        "train_dir = os.path.join(base_dir, 'train')\n",
        "validation_dir = os.path.join(base_dir, 'val')\n",
        "test_dir = os.path.join(base_dir, 'test')\n",
        "\n",
        "train_landM1_dir = os.path.join(train_dir, 'landMark1')\n",
        "train_landM2_dir = os.path.join(train_dir, 'landMark2')\n",
        "train_landM3_dir = os.path.join(train_dir, 'landMark3')\n",
        "\n",
        "validation_landM1_dir = os.path.join(validation_dir, 'landMark1')\n",
        "validation_landM2_dir = os.path.join(validation_dir, 'landMark2')\n",
        "validation_landM3_dir = os.path.join(validation_dir, 'landMark3')\n",
        "\n",
        "test_landM1_dir = os.path.join(test_dir, 'landMark1')\n",
        "test_landM2_dir = os.path.join(test_dir, 'landMark2')\n",
        "test_landM3_dir = os.path.join(test_dir, 'landMark3')\n"
      ],
      "execution_count": 0,
      "outputs": []
    },
    {
      "metadata": {
        "id": "9p6UaVlNyGE2",
        "colab_type": "code",
        "colab": {}
      },
      "cell_type": "code",
      "source": [
        "num_landM1_tr = len(os.listdir(train_landM1_dir))\n",
        "num_landM2_tr = len(os.listdir(train_landM2_dir))\n",
        "num_landM3_tr = len(os.listdir(train_landM3_dir))\n",
        "\n",
        "num_landM1_val = len(os.listdir(validation_landM1_dir))\n",
        "num_landM2_val = len(os.listdir(validation_landM2_dir))\n",
        "num_landM3_val = len(os.listdir(validation_landM3_dir))\n",
        "\n",
        "num_landM1_ts = len(os.listdir(test_landM1_dir))\n",
        "num_landM2_ts = len(os.listdir(test_landM2_dir))\n",
        "num_landM3_ts = len(os.listdir(test_landM3_dir))\n",
        "\n",
        "total_train = num_landM1_tr + num_landM2_tr + num_landM3_tr\n",
        "total_val = num_landM1_val + num_landM2_val + num_landM3_val\n",
        "total_ts = num_landM1_ts + num_landM2_ts + num_landM3_ts"
      ],
      "execution_count": 0,
      "outputs": []
    },
    {
      "metadata": {
        "id": "MwsA8qhR-ayU",
        "colab_type": "code",
        "outputId": "6aa9283c-107b-4b51-98dc-c161a95c82de",
        "colab": {
          "base_uri": "https://localhost:8080/",
          "height": 238
        }
      },
      "cell_type": "code",
      "source": [
        "print('Training landMark1 images:', num_landM1_tr)\n",
        "print('Training landMark2 images:', num_landM2_tr)\n",
        "print('Training landMark3 images:', num_landM3_tr)\n",
        "\n",
        "print('Validation landMark1 images:', num_landM1_val)\n",
        "print('Validation landMark2 images:', num_landM2_val)\n",
        "print('Validation landMark3 images:', num_landM3_val)\n",
        "\n",
        "print('test landMark1 images:', num_landM1_ts)\n",
        "print('test landMark2 images:', num_landM2_ts)\n",
        "print('test landMark3 images:', num_landM3_ts)\n",
        "\n",
        "print(\"--\")\n",
        "\n",
        "print(\"Total training images:\", total_train)\n",
        "print(\"Total validation images:\", total_val)\n",
        "print(\"Total test images:\", total_ts)"
      ],
      "execution_count": 0,
      "outputs": [
        {
          "output_type": "stream",
          "text": [
            "Training landMark1 images: 100\n",
            "Training landMark2 images: 101\n",
            "Training landMark3 images: 97\n",
            "Validation landMark1 images: 51\n",
            "Validation landMark2 images: 51\n",
            "Validation landMark3 images: 48\n",
            "test landMark1 images: 25\n",
            "test landMark2 images: 27\n",
            "test landMark3 images: 26\n",
            "--\n",
            "Total training images: 298\n",
            "Total validation images: 150\n",
            "Total test images: 78\n"
          ],
          "name": "stdout"
        }
      ]
    },
    {
      "metadata": {
        "id": "P_y7kbEm_RoZ",
        "colab_type": "code",
        "colab": {}
      },
      "cell_type": "code",
      "source": [
        "conv_base = VGG16(weights='imagenet',include_top=False, input_shape=(150, 150, 3))\n"
      ],
      "execution_count": 0,
      "outputs": []
    },
    {
      "metadata": {
        "id": "Zemt6GAW_TMY",
        "colab_type": "code",
        "outputId": "373d7abc-26ae-4337-ed09-a6d3ef7866eb",
        "colab": {
          "base_uri": "https://localhost:8080/",
          "height": 782
        }
      },
      "cell_type": "code",
      "source": [
        "conv_base.summary()\n"
      ],
      "execution_count": 0,
      "outputs": [
        {
          "output_type": "stream",
          "text": [
            "_________________________________________________________________\n",
            "Layer (type)                 Output Shape              Param #   \n",
            "=================================================================\n",
            "input_2 (InputLayer)         (None, 150, 150, 3)       0         \n",
            "_________________________________________________________________\n",
            "block1_conv1 (Conv2D)        (None, 150, 150, 64)      1792      \n",
            "_________________________________________________________________\n",
            "block1_conv2 (Conv2D)        (None, 150, 150, 64)      36928     \n",
            "_________________________________________________________________\n",
            "block1_pool (MaxPooling2D)   (None, 75, 75, 64)        0         \n",
            "_________________________________________________________________\n",
            "block2_conv1 (Conv2D)        (None, 75, 75, 128)       73856     \n",
            "_________________________________________________________________\n",
            "block2_conv2 (Conv2D)        (None, 75, 75, 128)       147584    \n",
            "_________________________________________________________________\n",
            "block2_pool (MaxPooling2D)   (None, 37, 37, 128)       0         \n",
            "_________________________________________________________________\n",
            "block3_conv1 (Conv2D)        (None, 37, 37, 256)       295168    \n",
            "_________________________________________________________________\n",
            "block3_conv2 (Conv2D)        (None, 37, 37, 256)       590080    \n",
            "_________________________________________________________________\n",
            "block3_conv3 (Conv2D)        (None, 37, 37, 256)       590080    \n",
            "_________________________________________________________________\n",
            "block3_pool (MaxPooling2D)   (None, 18, 18, 256)       0         \n",
            "_________________________________________________________________\n",
            "block4_conv1 (Conv2D)        (None, 18, 18, 512)       1180160   \n",
            "_________________________________________________________________\n",
            "block4_conv2 (Conv2D)        (None, 18, 18, 512)       2359808   \n",
            "_________________________________________________________________\n",
            "block4_conv3 (Conv2D)        (None, 18, 18, 512)       2359808   \n",
            "_________________________________________________________________\n",
            "block4_pool (MaxPooling2D)   (None, 9, 9, 512)         0         \n",
            "_________________________________________________________________\n",
            "block5_conv1 (Conv2D)        (None, 9, 9, 512)         2359808   \n",
            "_________________________________________________________________\n",
            "block5_conv2 (Conv2D)        (None, 9, 9, 512)         2359808   \n",
            "_________________________________________________________________\n",
            "block5_conv3 (Conv2D)        (None, 9, 9, 512)         2359808   \n",
            "_________________________________________________________________\n",
            "block5_pool (MaxPooling2D)   (None, 4, 4, 512)         0         \n",
            "=================================================================\n",
            "Total params: 14,714,688\n",
            "Trainable params: 14,714,688\n",
            "Non-trainable params: 0\n",
            "_________________________________________________________________\n"
          ],
          "name": "stdout"
        }
      ]
    },
    {
      "metadata": {
        "id": "qAesUvQC_WN_",
        "colab_type": "code",
        "colab": {}
      },
      "cell_type": "code",
      "source": [
        "TARGET_SHAPE = 150 \n",
        "BATCH_SIZE = 32"
      ],
      "execution_count": 0,
      "outputs": []
    },
    {
      "metadata": {
        "id": "0RAQqt7u_Y3F",
        "colab_type": "code",
        "outputId": "19551bd9-4773-4778-abca-235e301bdfc1",
        "colab": {
          "base_uri": "https://localhost:8080/",
          "height": 68
        }
      },
      "cell_type": "code",
      "source": [
        "datagen = ImageDataGenerator(rescale=1./255)\n",
        "\n",
        "def extract_features(directory, sample_count):\n",
        "    features = np.zeros(shape=(sample_count, 4, 4, 512))\n",
        "    labels = np.zeros(shape=(sample_count))\n",
        "    generator = datagen.flow_from_directory(\n",
        "        directory,\n",
        "        target_size=(TARGET_SHAPE, TARGET_SHAPE),\n",
        "        batch_size=BATCH_SIZE,\n",
        "        class_mode='binary')\n",
        "    i = 0\n",
        "    for inputs_batch, labels_batch in generator:\n",
        "      \n",
        "        features_batch = conv_base.predict(inputs_batch)\n",
        "        # print(features_batch.shape)\n",
        "        # (32, 4, 4, 512)\n",
        "        # Think: batch_size, rows, cols, channels\n",
        "        \n",
        "        features[i * BATCH_SIZE : (i + 1) * BATCH_SIZE] = features_batch\n",
        "        labels[i * BATCH_SIZE : (i + 1) * BATCH_SIZE] = labels_batch\n",
        "        i += 1\n",
        "        if i * BATCH_SIZE >= sample_count:\n",
        "            # Note that since generators yield data indefinitely in a loop,\n",
        "            # we must `break` after every image has been seen once.\n",
        "            break\n",
        "    return features, labels\n",
        "\n",
        "train_features, train_labels = extract_features(train_dir, 298)\n",
        "validation_features, validation_labels = extract_features(validation_dir, 150)\n",
        "test_features, test_labels = extract_features(test_dir, 78)"
      ],
      "execution_count": 0,
      "outputs": [
        {
          "output_type": "stream",
          "text": [
            "Found 298 images belonging to 3 classes.\n",
            "Found 150 images belonging to 3 classes.\n",
            "Found 78 images belonging to 3 classes.\n"
          ],
          "name": "stdout"
        }
      ]
    },
    {
      "metadata": {
        "id": "YZmjiqbM_k4s",
        "colab_type": "code",
        "colab": {}
      },
      "cell_type": "code",
      "source": [
        "FLATTENED_SHAPE = 4 * 4 * 512\n",
        "\n",
        "train_features = np.reshape(train_features, (total_train, FLATTENED_SHAPE))\n",
        "validation_features = np.reshape(validation_features, (total_val, FLATTENED_SHAPE))\n",
        "test_features = np.reshape(test_features, (total_ts, FLATTENED_SHAPE))\n"
      ],
      "execution_count": 0,
      "outputs": []
    },
    {
      "metadata": {
        "id": "YwW52Qr3_xGK",
        "colab_type": "code",
        "colab": {}
      },
      "cell_type": "code",
      "source": [
        "EPOCHS = 50"
      ],
      "execution_count": 0,
      "outputs": []
    },
    {
      "metadata": {
        "id": "9DKwakBn_xol",
        "colab_type": "code",
        "outputId": "27c315fc-7259-48f4-8f67-9f2a9fdfc187",
        "colab": {
          "base_uri": "https://localhost:8080/",
          "height": 1768
        }
      },
      "cell_type": "code",
      "source": [
        "model = Sequential()\n",
        "model.add(Dense(256, activation='relu', input_dim=FLATTENED_SHAPE))\n",
        "model.add(Dropout(0.5))\n",
        "model.add(Dense(256, activation='relu'))\n",
        "model.add(Dropout(0.5))\n",
        "model.add(Dense(10, activation='softmax'))\n",
        "\n",
        "model.compile(optimizer='adam',\n",
        "              loss='sparse_categorical_crossentropy',\n",
        "              metrics=['acc'])\n",
        "\n",
        "history = model.fit(train_features, train_labels,\n",
        "                    epochs=EPOCHS,\n",
        "                    batch_size=BATCH_SIZE,\n",
        "                    validation_data=(validation_features, validation_labels))\n",
        "score = model.evaluate(test_features, test_labels,verbose =2 )\n",
        "print(\"Acc is\", score[1])"
      ],
      "execution_count": 0,
      "outputs": [
        {
          "output_type": "stream",
          "text": [
            "Train on 298 samples, validate on 150 samples\n",
            "Epoch 1/50\n",
            "298/298 [==============================] - 1s 3ms/sample - loss: 0.9130 - acc: 0.6711 - val_loss: 0.1507 - val_acc: 0.9333\n",
            "Epoch 2/50\n",
            "298/298 [==============================] - 1s 2ms/sample - loss: 0.1829 - acc: 0.9564 - val_loss: 0.0069 - val_acc: 1.0000\n",
            "Epoch 3/50\n",
            "298/298 [==============================] - 1s 2ms/sample - loss: 0.0434 - acc: 0.9832 - val_loss: 0.0030 - val_acc: 1.0000\n",
            "Epoch 4/50\n",
            "298/298 [==============================] - 1s 2ms/sample - loss: 0.0210 - acc: 0.9933 - val_loss: 0.0017 - val_acc: 1.0000\n",
            "Epoch 5/50\n",
            "298/298 [==============================] - 1s 2ms/sample - loss: 0.0119 - acc: 0.9933 - val_loss: 0.0107 - val_acc: 1.0000\n",
            "Epoch 6/50\n",
            "298/298 [==============================] - 1s 2ms/sample - loss: 0.0161 - acc: 0.9966 - val_loss: 0.0105 - val_acc: 1.0000\n",
            "Epoch 7/50\n",
            "298/298 [==============================] - 1s 2ms/sample - loss: 0.0131 - acc: 0.9933 - val_loss: 0.0067 - val_acc: 1.0000\n",
            "Epoch 8/50\n",
            "298/298 [==============================] - 1s 2ms/sample - loss: 0.0137 - acc: 0.9933 - val_loss: 0.0034 - val_acc: 1.0000\n",
            "Epoch 9/50\n",
            "298/298 [==============================] - 1s 2ms/sample - loss: 0.0075 - acc: 0.9966 - val_loss: 3.6589e-05 - val_acc: 1.0000\n",
            "Epoch 10/50\n",
            "298/298 [==============================] - 1s 2ms/sample - loss: 0.0057 - acc: 0.9966 - val_loss: 6.6096e-05 - val_acc: 1.0000\n",
            "Epoch 11/50\n",
            "298/298 [==============================] - 1s 2ms/sample - loss: 7.5486e-04 - acc: 1.0000 - val_loss: 1.1851e-04 - val_acc: 1.0000\n",
            "Epoch 12/50\n",
            "298/298 [==============================] - 1s 2ms/sample - loss: 0.0038 - acc: 1.0000 - val_loss: 4.6606e-05 - val_acc: 1.0000\n",
            "Epoch 13/50\n",
            "298/298 [==============================] - 1s 2ms/sample - loss: 0.0033 - acc: 0.9966 - val_loss: 3.8262e-05 - val_acc: 1.0000\n",
            "Epoch 14/50\n",
            "298/298 [==============================] - 1s 2ms/sample - loss: 6.7456e-04 - acc: 1.0000 - val_loss: 0.0198 - val_acc: 1.0000\n",
            "Epoch 15/50\n",
            "298/298 [==============================] - 1s 2ms/sample - loss: 0.0079 - acc: 0.9966 - val_loss: 4.5412e-04 - val_acc: 1.0000\n",
            "Epoch 16/50\n",
            "298/298 [==============================] - 1s 2ms/sample - loss: 0.0058 - acc: 0.9966 - val_loss: 1.9719e-05 - val_acc: 1.0000\n",
            "Epoch 17/50\n",
            "298/298 [==============================] - 1s 2ms/sample - loss: 1.4781e-04 - acc: 1.0000 - val_loss: 1.5545e-05 - val_acc: 1.0000\n",
            "Epoch 18/50\n",
            "298/298 [==============================] - 1s 2ms/sample - loss: 7.4856e-04 - acc: 1.0000 - val_loss: 2.7251e-05 - val_acc: 1.0000\n",
            "Epoch 19/50\n",
            "298/298 [==============================] - 1s 2ms/sample - loss: 2.3905e-04 - acc: 1.0000 - val_loss: 4.3188e-05 - val_acc: 1.0000\n",
            "Epoch 20/50\n",
            "298/298 [==============================] - 1s 2ms/sample - loss: 0.0010 - acc: 1.0000 - val_loss: 1.6265e-05 - val_acc: 1.0000\n",
            "Epoch 21/50\n",
            "298/298 [==============================] - 1s 2ms/sample - loss: 1.4061e-04 - acc: 1.0000 - val_loss: 6.6646e-06 - val_acc: 1.0000\n",
            "Epoch 22/50\n",
            "298/298 [==============================] - 1s 2ms/sample - loss: 1.9863e-04 - acc: 1.0000 - val_loss: 4.2341e-06 - val_acc: 1.0000\n",
            "Epoch 23/50\n",
            "298/298 [==============================] - 1s 2ms/sample - loss: 0.0013 - acc: 1.0000 - val_loss: 3.3924e-05 - val_acc: 1.0000\n",
            "Epoch 24/50\n",
            "298/298 [==============================] - 1s 2ms/sample - loss: 0.0093 - acc: 0.9966 - val_loss: 0.0025 - val_acc: 1.0000\n",
            "Epoch 25/50\n",
            "298/298 [==============================] - 1s 2ms/sample - loss: 0.0025 - acc: 1.0000 - val_loss: 0.0024 - val_acc: 1.0000\n",
            "Epoch 26/50\n",
            "298/298 [==============================] - 1s 2ms/sample - loss: 3.0804e-04 - acc: 1.0000 - val_loss: 0.0011 - val_acc: 1.0000\n",
            "Epoch 27/50\n",
            "298/298 [==============================] - 1s 2ms/sample - loss: 0.0238 - acc: 0.9933 - val_loss: 5.8205e-05 - val_acc: 1.0000\n",
            "Epoch 28/50\n",
            "298/298 [==============================] - 1s 2ms/sample - loss: 0.0112 - acc: 0.9966 - val_loss: 1.0418e-05 - val_acc: 1.0000\n",
            "Epoch 29/50\n",
            "298/298 [==============================] - 1s 2ms/sample - loss: 0.0018 - acc: 1.0000 - val_loss: 0.0012 - val_acc: 1.0000\n",
            "Epoch 30/50\n",
            "298/298 [==============================] - 1s 2ms/sample - loss: 0.0037 - acc: 1.0000 - val_loss: 0.0010 - val_acc: 1.0000\n",
            "Epoch 31/50\n",
            "298/298 [==============================] - 1s 2ms/sample - loss: 4.2500e-04 - acc: 1.0000 - val_loss: 0.0013 - val_acc: 1.0000\n",
            "Epoch 32/50\n",
            "298/298 [==============================] - 1s 2ms/sample - loss: 0.0029 - acc: 1.0000 - val_loss: 1.4108e-04 - val_acc: 1.0000\n",
            "Epoch 33/50\n",
            "298/298 [==============================] - 1s 2ms/sample - loss: 2.4099e-04 - acc: 1.0000 - val_loss: 5.6031e-05 - val_acc: 1.0000\n",
            "Epoch 34/50\n",
            "298/298 [==============================] - 1s 2ms/sample - loss: 1.1546e-04 - acc: 1.0000 - val_loss: 4.4935e-05 - val_acc: 1.0000\n",
            "Epoch 35/50\n",
            "298/298 [==============================] - 1s 2ms/sample - loss: 2.4230e-04 - acc: 1.0000 - val_loss: 2.5709e-05 - val_acc: 1.0000\n",
            "Epoch 36/50\n",
            "298/298 [==============================] - 1s 2ms/sample - loss: 0.0014 - acc: 1.0000 - val_loss: 2.8244e-06 - val_acc: 1.0000\n",
            "Epoch 37/50\n",
            "298/298 [==============================] - 1s 2ms/sample - loss: 1.4670e-04 - acc: 1.0000 - val_loss: 1.7818e-06 - val_acc: 1.0000\n",
            "Epoch 38/50\n",
            "298/298 [==============================] - 1s 2ms/sample - loss: 8.0308e-05 - acc: 1.0000 - val_loss: 1.5418e-06 - val_acc: 1.0000\n",
            "Epoch 39/50\n",
            "298/298 [==============================] - 1s 2ms/sample - loss: 4.1742e-04 - acc: 1.0000 - val_loss: 1.6117e-06 - val_acc: 1.0000\n",
            "Epoch 40/50\n",
            "298/298 [==============================] - 1s 2ms/sample - loss: 1.5869e-04 - acc: 1.0000 - val_loss: 1.8144e-06 - val_acc: 1.0000\n",
            "Epoch 41/50\n",
            "298/298 [==============================] - 1s 2ms/sample - loss: 4.0289e-04 - acc: 1.0000 - val_loss: 2.4406e-06 - val_acc: 1.0000\n",
            "Epoch 42/50\n",
            "298/298 [==============================] - 1s 2ms/sample - loss: 1.7142e-04 - acc: 1.0000 - val_loss: 5.9122e-06 - val_acc: 1.0000\n",
            "Epoch 43/50\n",
            "298/298 [==============================] - 1s 2ms/sample - loss: 8.1730e-05 - acc: 1.0000 - val_loss: 9.0503e-06 - val_acc: 1.0000\n",
            "Epoch 44/50\n",
            "298/298 [==============================] - 1s 2ms/sample - loss: 1.0660e-04 - acc: 1.0000 - val_loss: 1.0010e-05 - val_acc: 1.0000\n",
            "Epoch 45/50\n",
            "298/298 [==============================] - 1s 2ms/sample - loss: 0.0041 - acc: 1.0000 - val_loss: 6.9647e-06 - val_acc: 1.0000\n",
            "Epoch 46/50\n",
            "298/298 [==============================] - 1s 2ms/sample - loss: 5.8498e-04 - acc: 1.0000 - val_loss: 2.1469e-04 - val_acc: 1.0000\n",
            "Epoch 47/50\n",
            "298/298 [==============================] - 1s 2ms/sample - loss: 0.0011 - acc: 1.0000 - val_loss: 5.3682e-06 - val_acc: 1.0000\n",
            "Epoch 48/50\n",
            "298/298 [==============================] - 1s 2ms/sample - loss: 0.0012 - acc: 1.0000 - val_loss: 1.2159e-06 - val_acc: 1.0000\n",
            "Epoch 49/50\n",
            "298/298 [==============================] - 1s 2ms/sample - loss: 3.9804e-05 - acc: 1.0000 - val_loss: 1.4186e-06 - val_acc: 1.0000\n",
            "Epoch 50/50\n",
            "298/298 [==============================] - 1s 2ms/sample - loss: 8.7827e-04 - acc: 1.0000 - val_loss: 1.5211e-06 - val_acc: 1.0000\n",
            " - 0s - loss: 9.7660e-07 - acc: 1.0000\n",
            "Acc is 1.0\n"
          ],
          "name": "stdout"
        }
      ]
    },
    {
      "metadata": {
        "id": "HVSzlMyHCuuP",
        "colab_type": "code",
        "outputId": "ee7a1fc5-c638-407f-e65e-1feac36508c7",
        "colab": {
          "base_uri": "https://localhost:8080/",
          "height": 498
        }
      },
      "cell_type": "code",
      "source": [
        "acc = history.history['acc']\n",
        "val_acc = history.history['val_acc']\n",
        "\n",
        "loss = history.history['loss']\n",
        "val_loss = history.history['val_loss']\n",
        "\n",
        "epochs_range = range(1, EPOCHS+1)\n",
        "\n",
        "plt.figure(figsize=(8, 8))\n",
        "plt.subplot(1, 2, 1)\n",
        "plt.plot(epochs_range, acc, label='Training Accuracy')\n",
        "plt.plot(epochs_range, val_acc, label='Validation Accuracy')\n",
        "plt.legend(loc='lower right')\n",
        "plt.title('Training and Validation Accuracy')\n",
        "\n",
        "plt.subplot(1, 2, 2)\n",
        "plt.plot(epochs_range, loss, label='Training Loss')\n",
        "plt.plot(epochs_range, val_loss, label='Validation Loss')\n",
        "plt.legend(loc='upper right')\n",
        "plt.title('Training and Validation Loss')\n",
        "plt.show()\n",
        "\n"
      ],
      "execution_count": 0,
      "outputs": [
        {
          "output_type": "display_data",
          "data": {
            "image/png": "[encoded data removed]",
            "text/plain": [
              "<Figure size 576x576 with 2 Axes>"
            ]
          },
          "metadata": {
            "tags": []
          }
        }
      ]
    },
    {
      "metadata": {
        "id": "OFA3BFV6wb3c",
        "colab_type": "code",
        "colab": {}
      },
      "cell_type": "code",
      "source": [
        ""
      ],
      "execution_count": 0,
      "outputs": []
    },
    {
      "metadata": {
        "id": "RCI3qwRmrmW9",
        "colab_type": "text"
      },
      "cell_type": "markdown",
      "source": [
        "New pretrian models"
      ]
    },
    {
      "metadata": {
        "id": "EdP3VaI6rtaY",
        "colab_type": "code",
        "colab": {}
      },
      "cell_type": "code",
      "source": [
        "conv_base = VGG19(weights='imagenet',include_top=False, input_shape=(150, 150, 3))\n"
      ],
      "execution_count": 0,
      "outputs": []
    },
    {
      "metadata": {
        "id": "HDgexBo9ryJ9",
        "colab_type": "code",
        "outputId": "2df82118-7590-4141-dbcc-33906fd009be",
        "colab": {
          "base_uri": "https://localhost:8080/",
          "height": 884
        }
      },
      "cell_type": "code",
      "source": [
        "conv_base.summary()\n"
      ],
      "execution_count": 0,
      "outputs": [
        {
          "output_type": "stream",
          "text": [
            "_________________________________________________________________\n",
            "Layer (type)                 Output Shape              Param #   \n",
            "=================================================================\n",
            "input_4 (InputLayer)         (None, 150, 150, 3)       0         \n",
            "_________________________________________________________________\n",
            "block1_conv1 (Conv2D)        (None, 150, 150, 64)      1792      \n",
            "_________________________________________________________________\n",
            "block1_conv2 (Conv2D)        (None, 150, 150, 64)      36928     \n",
            "_________________________________________________________________\n",
            "block1_pool (MaxPooling2D)   (None, 75, 75, 64)        0         \n",
            "_________________________________________________________________\n",
            "block2_conv1 (Conv2D)        (None, 75, 75, 128)       73856     \n",
            "_________________________________________________________________\n",
            "block2_conv2 (Conv2D)        (None, 75, 75, 128)       147584    \n",
            "_________________________________________________________________\n",
            "block2_pool (MaxPooling2D)   (None, 37, 37, 128)       0         \n",
            "_________________________________________________________________\n",
            "block3_conv1 (Conv2D)        (None, 37, 37, 256)       295168    \n",
            "_________________________________________________________________\n",
            "block3_conv2 (Conv2D)        (None, 37, 37, 256)       590080    \n",
            "_________________________________________________________________\n",
            "block3_conv3 (Conv2D)        (None, 37, 37, 256)       590080    \n",
            "_________________________________________________________________\n",
            "block3_conv4 (Conv2D)        (None, 37, 37, 256)       590080    \n",
            "_________________________________________________________________\n",
            "block3_pool (MaxPooling2D)   (None, 18, 18, 256)       0         \n",
            "_________________________________________________________________\n",
            "block4_conv1 (Conv2D)        (None, 18, 18, 512)       1180160   \n",
            "_________________________________________________________________\n",
            "block4_conv2 (Conv2D)        (None, 18, 18, 512)       2359808   \n",
            "_________________________________________________________________\n",
            "block4_conv3 (Conv2D)        (None, 18, 18, 512)       2359808   \n",
            "_________________________________________________________________\n",
            "block4_conv4 (Conv2D)        (None, 18, 18, 512)       2359808   \n",
            "_________________________________________________________________\n",
            "block4_pool (MaxPooling2D)   (None, 9, 9, 512)         0         \n",
            "_________________________________________________________________\n",
            "block5_conv1 (Conv2D)        (None, 9, 9, 512)         2359808   \n",
            "_________________________________________________________________\n",
            "block5_conv2 (Conv2D)        (None, 9, 9, 512)         2359808   \n",
            "_________________________________________________________________\n",
            "block5_conv3 (Conv2D)        (None, 9, 9, 512)         2359808   \n",
            "_________________________________________________________________\n",
            "block5_conv4 (Conv2D)        (None, 9, 9, 512)         2359808   \n",
            "_________________________________________________________________\n",
            "block5_pool (MaxPooling2D)   (None, 4, 4, 512)         0         \n",
            "=================================================================\n",
            "Total params: 20,024,384\n",
            "Trainable params: 20,024,384\n",
            "Non-trainable params: 0\n",
            "_________________________________________________________________\n"
          ],
          "name": "stdout"
        }
      ]
    },
    {
      "metadata": {
        "id": "1mQHzPtsrzfR",
        "colab_type": "code",
        "colab": {}
      },
      "cell_type": "code",
      "source": [
        "TARGET_SHAPE = 150 \n",
        "BATCH_SIZE = 32"
      ],
      "execution_count": 0,
      "outputs": []
    },
    {
      "metadata": {
        "id": "-_w5zPbwr7eC",
        "colab_type": "code",
        "outputId": "5f0c14e1-a1b7-400b-c7a4-5551ec8b6550",
        "colab": {
          "base_uri": "https://localhost:8080/",
          "height": 68
        }
      },
      "cell_type": "code",
      "source": [
        "datagen = ImageDataGenerator(rescale=1./255)\n",
        "\n",
        "def extract_features(directory, sample_count):\n",
        "    features = np.zeros(shape=(sample_count, 4, 4, 512))\n",
        "    labels = np.zeros(shape=(sample_count))\n",
        "    generator = datagen.flow_from_directory(\n",
        "        directory,\n",
        "        target_size=(TARGET_SHAPE, TARGET_SHAPE),\n",
        "        batch_size=BATCH_SIZE,\n",
        "        class_mode='binary')\n",
        "    i = 0\n",
        "    for inputs_batch, labels_batch in generator:\n",
        "      \n",
        "        features_batch = conv_base.predict(inputs_batch)\n",
        "        # print(features_batch.shape)\n",
        "        # (32, 4, 4, 512)\n",
        "        # Think: batch_size, rows, cols, channels\n",
        "        \n",
        "        features[i * BATCH_SIZE : (i + 1) * BATCH_SIZE] = features_batch\n",
        "        labels[i * BATCH_SIZE : (i + 1) * BATCH_SIZE] = labels_batch\n",
        "        i += 1\n",
        "        if i * BATCH_SIZE >= sample_count:\n",
        "            # Note that since generators yield data indefinitely in a loop,\n",
        "            # we must `break` after every image has been seen once.\n",
        "            break\n",
        "    return features, labels\n",
        "\n",
        "train_features, train_labels = extract_features(train_dir, 298)\n",
        "validation_features, validation_labels = extract_features(validation_dir, 150)\n",
        "test_features, test_labels = extract_features(test_dir, 78)"
      ],
      "execution_count": 0,
      "outputs": [
        {
          "output_type": "stream",
          "text": [
            "Found 298 images belonging to 3 classes.\n",
            "Found 150 images belonging to 3 classes.\n",
            "Found 78 images belonging to 3 classes.\n"
          ],
          "name": "stdout"
        }
      ]
    },
    {
      "metadata": {
        "id": "gu0R4UM5sAWj",
        "colab_type": "code",
        "colab": {}
      },
      "cell_type": "code",
      "source": [
        "FLATTENED_SHAPE = 4 * 4 * 512\n",
        "\n",
        "train_features = np.reshape(train_features, (total_train, FLATTENED_SHAPE))\n",
        "validation_features = np.reshape(validation_features, (total_val, FLATTENED_SHAPE))\n",
        "test_features = np.reshape(test_features, (total_ts, FLATTENED_SHAPE))"
      ],
      "execution_count": 0,
      "outputs": []
    },
    {
      "metadata": {
        "id": "8JEmFwWisCNq",
        "colab_type": "code",
        "colab": {}
      },
      "cell_type": "code",
      "source": [
        "EPOCHS = 50"
      ],
      "execution_count": 0,
      "outputs": []
    },
    {
      "metadata": {
        "id": "VrKT4jKCsEZ-",
        "colab_type": "code",
        "outputId": "cdb37777-9eff-43de-d755-813f197d7004",
        "colab": {
          "base_uri": "https://localhost:8080/",
          "height": 1768
        }
      },
      "cell_type": "code",
      "source": [
        "model = Sequential()\n",
        "model.add(Dense(256, activation='relu', input_dim=FLATTENED_SHAPE))\n",
        "model.add(Dropout(0.5))\n",
        "model.add(Dense(256, activation='relu'))\n",
        "model.add(Dropout(0.5))\n",
        "model.add(Dense(10, activation='softmax'))\n",
        "\n",
        "model.compile(optimizer='adam',\n",
        "              loss='sparse_categorical_crossentropy',\n",
        "              metrics=['acc'])\n",
        "\n",
        "history = model.fit(train_features, train_labels,\n",
        "                    epochs=EPOCHS,\n",
        "                    batch_size=BATCH_SIZE,\n",
        "                    validation_data=(validation_features, validation_labels))\n",
        "\n",
        "score = model.evaluate(test_features, test_labels,verbose =2 )\n",
        "print(\"Acc is\", score[1])"
      ],
      "execution_count": 0,
      "outputs": [
        {
          "output_type": "stream",
          "text": [
            "Train on 298 samples, validate on 150 samples\n",
            "Epoch 1/50\n",
            "298/298 [==============================] - 1s 3ms/sample - loss: 1.0671 - acc: 0.6309 - val_loss: 0.0279 - val_acc: 0.9933\n",
            "Epoch 2/50\n",
            "298/298 [==============================] - 0s 1ms/sample - loss: 0.1777 - acc: 0.9396 - val_loss: 0.0098 - val_acc: 1.0000\n",
            "Epoch 3/50\n",
            "298/298 [==============================] - 0s 1ms/sample - loss: 0.0687 - acc: 0.9799 - val_loss: 0.0042 - val_acc: 1.0000\n",
            "Epoch 4/50\n",
            "298/298 [==============================] - 0s 1ms/sample - loss: 0.0264 - acc: 0.9933 - val_loss: 0.0021 - val_acc: 1.0000\n",
            "Epoch 5/50\n",
            "298/298 [==============================] - 0s 1ms/sample - loss: 0.0052 - acc: 1.0000 - val_loss: 5.4804e-04 - val_acc: 1.0000\n",
            "Epoch 6/50\n",
            "298/298 [==============================] - 0s 1ms/sample - loss: 0.0030 - acc: 1.0000 - val_loss: 3.6668e-04 - val_acc: 1.0000\n",
            "Epoch 7/50\n",
            "298/298 [==============================] - 0s 1ms/sample - loss: 0.0013 - acc: 1.0000 - val_loss: 5.7376e-04 - val_acc: 1.0000\n",
            "Epoch 8/50\n",
            "298/298 [==============================] - 0s 1ms/sample - loss: 0.0022 - acc: 1.0000 - val_loss: 1.2474e-04 - val_acc: 1.0000\n",
            "Epoch 9/50\n",
            "298/298 [==============================] - 0s 1ms/sample - loss: 5.8575e-04 - acc: 1.0000 - val_loss: 5.9879e-05 - val_acc: 1.0000\n",
            "Epoch 10/50\n",
            "298/298 [==============================] - 0s 1ms/sample - loss: 0.0039 - acc: 1.0000 - val_loss: 3.7893e-05 - val_acc: 1.0000\n",
            "Epoch 11/50\n",
            "298/298 [==============================] - 0s 1ms/sample - loss: 0.0181 - acc: 0.9899 - val_loss: 2.1345e-04 - val_acc: 1.0000\n",
            "Epoch 12/50\n",
            "298/298 [==============================] - 0s 1ms/sample - loss: 0.0123 - acc: 0.9933 - val_loss: 1.3179e-04 - val_acc: 1.0000\n",
            "Epoch 13/50\n",
            "298/298 [==============================] - 0s 1ms/sample - loss: 0.0104 - acc: 0.9933 - val_loss: 1.7495e-05 - val_acc: 1.0000\n",
            "Epoch 14/50\n",
            "298/298 [==============================] - 0s 1ms/sample - loss: 0.0031 - acc: 1.0000 - val_loss: 1.1185e-05 - val_acc: 1.0000\n",
            "Epoch 15/50\n",
            "298/298 [==============================] - 0s 1ms/sample - loss: 0.0084 - acc: 0.9966 - val_loss: 6.4546e-06 - val_acc: 1.0000\n",
            "Epoch 16/50\n",
            "298/298 [==============================] - 0s 1ms/sample - loss: 0.0015 - acc: 1.0000 - val_loss: 3.6095e-04 - val_acc: 1.0000\n",
            "Epoch 17/50\n",
            "298/298 [==============================] - 0s 1ms/sample - loss: 0.0094 - acc: 0.9966 - val_loss: 3.7510e-04 - val_acc: 1.0000\n",
            "Epoch 18/50\n",
            "298/298 [==============================] - 0s 1ms/sample - loss: 0.0038 - acc: 1.0000 - val_loss: 0.0022 - val_acc: 1.0000\n",
            "Epoch 19/50\n",
            "298/298 [==============================] - 0s 1ms/sample - loss: 0.0061 - acc: 0.9966 - val_loss: 2.3796e-04 - val_acc: 1.0000\n",
            "Epoch 20/50\n",
            "298/298 [==============================] - 0s 1ms/sample - loss: 3.2389e-04 - acc: 1.0000 - val_loss: 1.0804e-05 - val_acc: 1.0000\n",
            "Epoch 21/50\n",
            "298/298 [==============================] - 0s 1ms/sample - loss: 0.0025 - acc: 1.0000 - val_loss: 8.2508e-06 - val_acc: 1.0000\n",
            "Epoch 22/50\n",
            "298/298 [==============================] - 0s 1ms/sample - loss: 0.0018 - acc: 1.0000 - val_loss: 8.9467e-06 - val_acc: 1.0000\n",
            "Epoch 23/50\n",
            "298/298 [==============================] - 0s 1ms/sample - loss: 2.4516e-04 - acc: 1.0000 - val_loss: 9.3375e-06 - val_acc: 1.0000\n",
            "Epoch 24/50\n",
            "298/298 [==============================] - 0s 1ms/sample - loss: 7.8186e-05 - acc: 1.0000 - val_loss: 9.5591e-06 - val_acc: 1.0000\n",
            "Epoch 25/50\n",
            "298/298 [==============================] - 0s 1ms/sample - loss: 0.0021 - acc: 1.0000 - val_loss: 8.0937e-05 - val_acc: 1.0000\n",
            "Epoch 26/50\n",
            "298/298 [==============================] - 0s 1ms/sample - loss: 2.3436e-04 - acc: 1.0000 - val_loss: 1.5112e-04 - val_acc: 1.0000\n",
            "Epoch 27/50\n",
            "298/298 [==============================] - 0s 1ms/sample - loss: 6.8796e-04 - acc: 1.0000 - val_loss: 2.6173e-04 - val_acc: 1.0000\n",
            "Epoch 28/50\n",
            "298/298 [==============================] - 0s 1ms/sample - loss: 0.0015 - acc: 1.0000 - val_loss: 8.2713e-04 - val_acc: 1.0000\n",
            "Epoch 29/50\n",
            "298/298 [==============================] - 0s 1ms/sample - loss: 7.0640e-05 - acc: 1.0000 - val_loss: 0.0013 - val_acc: 1.0000\n",
            "Epoch 30/50\n",
            "298/298 [==============================] - 0s 1ms/sample - loss: 2.3177e-04 - acc: 1.0000 - val_loss: 0.0015 - val_acc: 1.0000\n",
            "Epoch 31/50\n",
            "298/298 [==============================] - 0s 1ms/sample - loss: 2.1952e-04 - acc: 1.0000 - val_loss: 8.1164e-04 - val_acc: 1.0000\n",
            "Epoch 32/50\n",
            "298/298 [==============================] - 0s 1ms/sample - loss: 3.1566e-04 - acc: 1.0000 - val_loss: 3.8768e-04 - val_acc: 1.0000\n",
            "Epoch 33/50\n",
            "298/298 [==============================] - 0s 1ms/sample - loss: 2.5664e-05 - acc: 1.0000 - val_loss: 2.4776e-04 - val_acc: 1.0000\n",
            "Epoch 34/50\n",
            "298/298 [==============================] - 0s 1ms/sample - loss: 1.2155e-04 - acc: 1.0000 - val_loss: 2.0175e-04 - val_acc: 1.0000\n",
            "Epoch 35/50\n",
            "298/298 [==============================] - 0s 1ms/sample - loss: 9.8565e-05 - acc: 1.0000 - val_loss: 1.8042e-04 - val_acc: 1.0000\n",
            "Epoch 36/50\n",
            "298/298 [==============================] - 0s 1ms/sample - loss: 1.3716e-04 - acc: 1.0000 - val_loss: 1.7641e-04 - val_acc: 1.0000\n",
            "Epoch 37/50\n",
            "298/298 [==============================] - 0s 1ms/sample - loss: 1.2482e-04 - acc: 1.0000 - val_loss: 1.6990e-04 - val_acc: 1.0000\n",
            "Epoch 38/50\n",
            "298/298 [==============================] - 0s 1ms/sample - loss: 2.8886e-04 - acc: 1.0000 - val_loss: 1.2011e-04 - val_acc: 1.0000\n",
            "Epoch 39/50\n",
            "298/298 [==============================] - 0s 1ms/sample - loss: 3.5219e-05 - acc: 1.0000 - val_loss: 8.5984e-05 - val_acc: 1.0000\n",
            "Epoch 40/50\n",
            "298/298 [==============================] - 0s 1ms/sample - loss: 7.2417e-04 - acc: 1.0000 - val_loss: 4.4958e-05 - val_acc: 1.0000\n",
            "Epoch 41/50\n",
            "298/298 [==============================] - 0s 1ms/sample - loss: 8.3141e-05 - acc: 1.0000 - val_loss: 1.1887e-05 - val_acc: 1.0000\n",
            "Epoch 42/50\n",
            "298/298 [==============================] - 0s 1ms/sample - loss: 1.7625e-04 - acc: 1.0000 - val_loss: 9.1326e-06 - val_acc: 1.0000\n",
            "Epoch 43/50\n",
            "298/298 [==============================] - 0s 1ms/sample - loss: 4.7415e-04 - acc: 1.0000 - val_loss: 1.0833e-05 - val_acc: 1.0000\n",
            "Epoch 44/50\n",
            "298/298 [==============================] - 0s 1ms/sample - loss: 8.1332e-04 - acc: 1.0000 - val_loss: 1.1633e-05 - val_acc: 1.0000\n",
            "Epoch 45/50\n",
            "298/298 [==============================] - 0s 1ms/sample - loss: 4.4947e-04 - acc: 1.0000 - val_loss: 6.4113e-06 - val_acc: 1.0000\n",
            "Epoch 46/50\n",
            "298/298 [==============================] - 0s 1ms/sample - loss: 3.6591e-05 - acc: 1.0000 - val_loss: 5.1423e-06 - val_acc: 1.0000\n",
            "Epoch 47/50\n",
            "298/298 [==============================] - 0s 1ms/sample - loss: 9.0000e-06 - acc: 1.0000 - val_loss: 4.8022e-06 - val_acc: 1.0000\n",
            "Epoch 48/50\n",
            "298/298 [==============================] - 0s 1ms/sample - loss: 4.0550e-05 - acc: 1.0000 - val_loss: 4.6973e-06 - val_acc: 1.0000\n",
            "Epoch 49/50\n",
            "298/298 [==============================] - 0s 1ms/sample - loss: 1.0752e-05 - acc: 1.0000 - val_loss: 4.7061e-06 - val_acc: 1.0000\n",
            "Epoch 50/50\n",
            "298/298 [==============================] - 0s 1ms/sample - loss: 4.8808e-05 - acc: 1.0000 - val_loss: 4.6838e-06 - val_acc: 1.0000\n",
            " - 0s - loss: 1.7805e-06 - acc: 1.0000\n",
            "Acc is 1.0\n"
          ],
          "name": "stdout"
        }
      ]
    },
    {
      "metadata": {
        "id": "5UAxPCuIsIdv",
        "colab_type": "code",
        "outputId": "2ec3ecec-7140-4aa6-f09b-d1eae2c3e6cf",
        "colab": {
          "base_uri": "https://localhost:8080/",
          "height": 498
        }
      },
      "cell_type": "code",
      "source": [
        "acc = history.history['acc']\n",
        "val_acc = history.history['val_acc']\n",
        "\n",
        "loss = history.history['loss']\n",
        "val_loss = history.history['val_loss']\n",
        "\n",
        "epochs_range = range(1, EPOCHS+1)\n",
        "\n",
        "plt.figure(figsize=(8, 8))\n",
        "plt.subplot(1, 2, 1)\n",
        "plt.plot(epochs_range, acc, label='Training Accuracy')\n",
        "plt.plot(epochs_range, val_acc, label='Validation Accuracy')\n",
        "plt.legend(loc='lower right')\n",
        "plt.title('Training and Validation Accuracy')\n",
        "\n",
        "plt.subplot(1, 2, 2)\n",
        "plt.plot(epochs_range, loss, label='Training Loss')\n",
        "plt.plot(epochs_range, val_loss, label='Validation Loss')\n",
        "plt.legend(loc='upper right')\n",
        "plt.title('Training and Validation Loss')\n",
        "plt.show()"
      ],
      "execution_count": 0,
      "outputs": [
        {
          "output_type": "display_data",
          "data": {
            "image/png": "[encoded data removed]",
            "text/plain": [
              "<Figure size 576x576 with 2 Axes>"
            ]
          },
          "metadata": {
            "tags": []
          }
        }
      ]
    },
    {
      "metadata": {
        "id": "zLuCYbVCyL0l",
        "colab_type": "text"
      },
      "cell_type": "markdown",
      "source": [
        "Conclusion: \n",
        "1. i used two pretrian model, VGG16 use less paramter and it is smaller\n",
        "2. since the photo set of landmark has samilar backgroud and same drakness .. so the accuracy is very high by using transfer learning "
      ]
    }
  ]
}