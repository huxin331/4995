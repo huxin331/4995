{
  "nbformat": 4,
  "nbformat_minor": 0,
  "metadata": {
    "colab": {
      "name": "p2.ipynb",
      "version": "0.3.2",
      "provenance": [],
      "collapsed_sections": []
    },
    "kernelspec": {
      "name": "python3",
      "display_name": "Python 3"
    }
  },
  "cells": [
    {
      "metadata": {
        "id": "VhCEQ1514m-Q",
        "colab_type": "code",
        "outputId": "40bb5801-6f45-416b-b437-563fe050fc88",
        "colab": {
          "base_uri": "https://localhost:8080/",
          "height": 360
        }
      },
      "cell_type": "code",
      "source": [
        "!pip install tf-nightly-2.0-preview\n"
      ],
      "execution_count": 0,
      "outputs": [
        {
          "output_type": "stream",
          "text": [
            "Requirement already satisfied: tf-nightly-2.0-preview in /usr/local/lib/python3.6/dist-packages (2.0.0.dev20190214)\n",
            "Requirement already satisfied: astor>=0.6.0 in /usr/local/lib/python3.6/dist-packages (from tf-nightly-2.0-preview) (0.7.1)\n",
            "Requirement already satisfied: tensorflow-estimator-2.0-preview in /usr/local/lib/python3.6/dist-packages (from tf-nightly-2.0-preview) (1.14.0.dev2019021400)\n",
            "Requirement already satisfied: protobuf>=3.6.1 in /usr/local/lib/python3.6/dist-packages (from tf-nightly-2.0-preview) (3.6.1)\n",
            "Requirement already satisfied: absl-py>=0.1.6 in /usr/local/lib/python3.6/dist-packages (from tf-nightly-2.0-preview) (0.7.0)\n",
            "Requirement already satisfied: numpy<2.0,>=1.14.5 in /usr/local/lib/python3.6/dist-packages (from tf-nightly-2.0-preview) (1.14.6)\n",
            "Requirement already satisfied: gast>=0.2.0 in /usr/local/lib/python3.6/dist-packages (from tf-nightly-2.0-preview) (0.2.2)\n",
            "Requirement already satisfied: google-pasta>=0.1.1 in /usr/local/lib/python3.6/dist-packages (from tf-nightly-2.0-preview) (0.1.3)\n",
            "Requirement already satisfied: termcolor>=1.1.0 in /usr/local/lib/python3.6/dist-packages (from tf-nightly-2.0-preview) (1.1.0)\n",
            "Requirement already satisfied: grpcio>=1.8.6 in /usr/local/lib/python3.6/dist-packages (from tf-nightly-2.0-preview) (1.15.0)\n",
            "Requirement already satisfied: wheel>=0.26 in /usr/local/lib/python3.6/dist-packages (from tf-nightly-2.0-preview) (0.32.3)\n",
            "Requirement already satisfied: tb-nightly<1.14.0a0,>=1.13.0a0 in /usr/local/lib/python3.6/dist-packages (from tf-nightly-2.0-preview) (1.13.0a20190214)\n",
            "Requirement already satisfied: keras-applications>=1.0.6 in /usr/local/lib/python3.6/dist-packages (from tf-nightly-2.0-preview) (1.0.7)\n",
            "Requirement already satisfied: six>=1.10.0 in /usr/local/lib/python3.6/dist-packages (from tf-nightly-2.0-preview) (1.11.0)\n",
            "Requirement already satisfied: keras-preprocessing>=1.0.5 in /usr/local/lib/python3.6/dist-packages (from tf-nightly-2.0-preview) (1.0.9)\n",
            "Requirement already satisfied: setuptools in /usr/local/lib/python3.6/dist-packages (from protobuf>=3.6.1->tf-nightly-2.0-preview) (40.8.0)\n",
            "Requirement already satisfied: werkzeug>=0.11.15 in /usr/local/lib/python3.6/dist-packages (from tb-nightly<1.14.0a0,>=1.13.0a0->tf-nightly-2.0-preview) (0.14.1)\n",
            "Requirement already satisfied: markdown>=2.6.8 in /usr/local/lib/python3.6/dist-packages (from tb-nightly<1.14.0a0,>=1.13.0a0->tf-nightly-2.0-preview) (3.0.1)\n",
            "Requirement already satisfied: h5py in /usr/local/lib/python3.6/dist-packages (from keras-applications>=1.0.6->tf-nightly-2.0-preview) (2.8.0)\n"
          ],
          "name": "stdout"
        }
      ]
    },
    {
      "metadata": {
        "id": "OWor1HGt4vG8",
        "colab_type": "code",
        "colab": {}
      },
      "cell_type": "code",
      "source": [
        "import tensorflow as tf\n",
        "import matplotlib.pyplot as plt\n"
      ],
      "execution_count": 0,
      "outputs": []
    },
    {
      "metadata": {
        "id": "561YeLZb4xtO",
        "colab_type": "code",
        "outputId": "cfcaefc1-8eef-4405-d275-f480fefc6d25",
        "colab": {
          "base_uri": "https://localhost:8080/",
          "height": 34
        }
      },
      "cell_type": "code",
      "source": [
        "print(\"You have version\", tf.__version__)\n",
        "assert tf.__version__ >= \"2.0\" # TensorFlow ≥ 2.0 required\n"
      ],
      "execution_count": 0,
      "outputs": [
        {
          "output_type": "stream",
          "text": [
            "You have version 2.0.0-dev20190214\n"
          ],
          "name": "stdout"
        }
      ]
    },
    {
      "metadata": {
        "id": "EgdPohn-40Yn",
        "colab_type": "code",
        "colab": {}
      },
      "cell_type": "code",
      "source": [
        "import numpy as np\n",
        "\n",
        "from tensorflow.keras import Model\n",
        "from tensorflow.keras.layers import Dense, Flatten\n",
        "from tensorflow.keras.datasets import fashion_mnist\n"
      ],
      "execution_count": 0,
      "outputs": []
    },
    {
      "metadata": {
        "id": "jrXRvtqQ42te",
        "colab_type": "code",
        "outputId": "60a746c3-13f3-4c9d-da18-eaa734c79a6a",
        "colab": {
          "base_uri": "https://localhost:8080/",
          "height": 153
        }
      },
      "cell_type": "code",
      "source": [
        "\n",
        "(x_train, y_train), (x_test, y_test) = fashion_mnist.load_data()\n",
        "\n",
        "x_train = x_train.astype('float32')\n",
        "x_test = x_test.astype('float32')\n",
        "\n",
        "x_train = x_train / 255\n",
        "x_test = x_test / 255\n"
      ],
      "execution_count": 0,
      "outputs": [
        {
          "output_type": "stream",
          "text": [
            "Downloading data from https://storage.googleapis.com/tensorflow/tf-keras-datasets/train-labels-idx1-ubyte.gz\n",
            "32768/29515=================================] - 0s 0us/step\n",
            "Downloading data from https://storage.googleapis.com/tensorflow/tf-keras-datasets/train-images-idx3-ubyte.gz\n",
            "26427392/26421880==============================] - 0s 0us/step\n",
            "Downloading data from https://storage.googleapis.com/tensorflow/tf-keras-datasets/t10k-labels-idx1-ubyte.gz\n",
            "8192/5148===============================================] - 0s 0us/step\n",
            "Downloading data from https://storage.googleapis.com/tensorflow/tf-keras-datasets/t10k-images-idx3-ubyte.gz\n",
            "4423680/4422102==============================] - 0s 0us/step\n"
          ],
          "name": "stdout"
        }
      ]
    },
    {
      "metadata": {
        "id": "xoqZfnzF483L",
        "colab_type": "code",
        "colab": {}
      },
      "cell_type": "code",
      "source": [
        "BATCH_SIZE = 128\n",
        "BUFFER_SIZE = len(x_train)\n",
        "\n",
        "mnist_train = tf.data.Dataset.from_tensor_slices((x_train, y_train)).shuffle(BUFFER_SIZE).batch(BATCH_SIZE)\n",
        "mnist_test = tf.data.Dataset.from_tensor_slices((x_test, y_test)).batch(BATCH_SIZE)"
      ],
      "execution_count": 0,
      "outputs": []
    },
    {
      "metadata": {
        "id": "N0x3-lBE4_6_",
        "colab_type": "code",
        "colab": {}
      },
      "cell_type": "code",
      "source": [
        "class MyModel(Model):\n",
        "  def __init__(self):\n",
        "    super(MyModel, self).__init__()\n",
        "    self.flatten = Flatten()\n",
        "    self.d1 = Dense(10, activation='softmax')\n",
        "\n",
        "  def call(self, x):\n",
        "    x = self.flatten(x)\n",
        "    return self.d1(x)\n",
        "  \n",
        "model = MyModel()"
      ],
      "execution_count": 0,
      "outputs": []
    },
    {
      "metadata": {
        "id": "nxCH7Ndt6sLG",
        "colab_type": "code",
        "colab": {}
      },
      "cell_type": "code",
      "source": [
        "loss_function = tf.keras.losses.SparseCategoricalCrossentropy(from_logits=False)\n",
        "optimizer = tf.keras.optimizers.Adam()"
      ],
      "execution_count": 0,
      "outputs": []
    },
    {
      "metadata": {
        "id": "gEaW9V6c6uEh",
        "colab_type": "code",
        "colab": {}
      },
      "cell_type": "code",
      "source": [
        "train_loss_metric = tf.keras.metrics.Mean(name='train_loss')\n",
        "test_loss_metric = tf.keras.metrics.Mean(name='test_loss')\n",
        "\n",
        "train_accuracy_metric = tf.keras.metrics.SparseCategoricalAccuracy(name='train_accuracy')\n",
        "test_accuracy_metric = tf.keras.metrics.SparseCategoricalAccuracy(name='test_accuracy')"
      ],
      "execution_count": 0,
      "outputs": []
    },
    {
      "metadata": {
        "id": "vA7DtkMO63EJ",
        "colab_type": "code",
        "colab": {}
      },
      "cell_type": "code",
      "source": [
        "def train_step(images, labels):\n",
        "  with tf.GradientTape() as tape:    \n",
        "    # Forward pass\n",
        "    predictions = model(images)\n",
        "    train_loss = loss_function(y_true=labels, y_pred=predictions)\n",
        "  \n",
        "  # Backward pass\n",
        "  gradients = tape.gradient(train_loss, model.trainable_variables)\n",
        "  optimizer.apply_gradients(zip(gradients, model.trainable_variables))\n",
        "\n",
        "  # Record results\n",
        "  train_loss_metric(train_loss)\n",
        "  train_accuracy_metric(labels, predictions)"
      ],
      "execution_count": 0,
      "outputs": []
    },
    {
      "metadata": {
        "id": "c4tFEZXh65DD",
        "colab_type": "code",
        "colab": {}
      },
      "cell_type": "code",
      "source": [
        "def test_step(images, labels):\n",
        "  predictions = model(images)\n",
        "  test_loss = loss_function(y_true=labels, y_pred=predictions)\n",
        "  \n",
        "  # Record results\n",
        "  test_loss_metric(test_loss)\n",
        "  test_accuracy_metric(labels, predictions)\n"
      ],
      "execution_count": 0,
      "outputs": []
    },
    {
      "metadata": {
        "id": "dyFBy7RP67hy",
        "colab_type": "code",
        "outputId": "7a4aa897-7185-4e26-fb34-55fd1980b1ac",
        "colab": {
          "base_uri": "https://localhost:8080/",
          "height": 153
        }
      },
      "cell_type": "code",
      "source": [
        "EPOCHS = 8\n",
        "arr = []\n",
        "test_arr =[]\n",
        "for epoch in range(EPOCHS):\n",
        "  for images, labels in mnist_train:\n",
        "    train_step(images, labels)\n",
        "  \n",
        "  for test_images, test_labels in mnist_test:\n",
        "    test_step(test_images, test_labels)\n",
        "  \n",
        "  arr.append(train_accuracy_metric.result()*100)\n",
        "  test_arr.append(test_accuracy_metric.result() * 100)\n",
        "    \n",
        "  template = 'Epoch {}, Loss: {:.4f}, Accuracy: {:.2f}, Test loss: {:.4f}, Test accuracy: {:.2f}'\n",
        "  print (template.format(epoch +1, \n",
        "                         train_loss_metric.result(), \n",
        "                         train_accuracy_metric.result() * 100, \n",
        "                         test_loss_metric.result(), \n",
        "                         test_accuracy_metric.result() * 100))\n"
      ],
      "execution_count": 0,
      "outputs": [
        {
          "output_type": "stream",
          "text": [
            "Epoch 1, Loss: 0.7487, Accuracy: 75.15, Test loss: 0.5712, Test accuracy: 80.90\n",
            "Epoch 2, Loss: 0.6338, Accuracy: 78.98, Test loss: 0.5419, Test accuracy: 81.72\n",
            "Epoch 3, Loss: 0.5812, Accuracy: 80.69, Test loss: 0.5239, Test accuracy: 82.24\n",
            "Epoch 4, Loss: 0.5493, Accuracy: 81.70, Test loss: 0.5114, Test accuracy: 82.61\n",
            "Epoch 5, Loss: 0.5273, Accuracy: 82.39, Test loss: 0.5021, Test accuracy: 82.88\n",
            "Epoch 6, Loss: 0.5110, Accuracy: 82.90, Test loss: 0.4948, Test accuracy: 83.08\n",
            "Epoch 7, Loss: 0.4982, Accuracy: 83.30, Test loss: 0.4890, Test accuracy: 83.24\n",
            "Epoch 8, Loss: 0.4878, Accuracy: 83.61, Test loss: 0.4842, Test accuracy: 83.37\n"
          ],
          "name": "stdout"
        }
      ]
    },
    {
      "metadata": {
        "id": "_DnuzLur-V3k",
        "colab_type": "code",
        "outputId": "400d51ab-e66d-40a2-c3a4-8196ab6e9037",
        "colab": {
          "base_uri": "https://localhost:8080/",
          "height": 393
        }
      },
      "cell_type": "code",
      "source": [
        "\n",
        "\n",
        "\n",
        "# Get the number of epochs\n",
        "epochs = range(len(arr))\n",
        "\n",
        "plt.title('Training and validation accuracy')\n",
        "plt.plot(epochs, arr, color='blue', label='Train')\n",
        "plt.plot(epochs, test_arr, color='orange', label='Val')\n",
        "plt.xlabel('Epoch')\n",
        "plt.ylabel('Accuracy')\n",
        "plt.legend()\n"
      ],
      "execution_count": 0,
      "outputs": [
        {
          "output_type": "execute_result",
          "data": {
            "text/plain": [
              "<matplotlib.legend.Legend at 0x7f1570c4b198>"
            ]
          },
          "metadata": {
            "tags": []
          },
          "execution_count": 15
        },
        {
          "output_type": "display_data",
          "data": {
            "image/png": "[encoded data removed]",
            "text/plain": [
              "<Figure size 576x396 with 1 Axes>"
            ]
          },
          "metadata": {
            "tags": []
          }
        }
      ]
    },
    {
      "metadata": {
        "id": "rVwsp_EfFh9G",
        "colab_type": "code",
        "colab": {}
      },
      "cell_type": "code",
      "source": [
        "mnist = tf.keras.datasets.mnist\n",
        "\n",
        "(x_train, y_train), (x_test, y_test) = fashion_mnist.load_data()\n",
        "x_train = x_train.astype('float32')\n",
        "x_test = x_test.astype('float32')\n",
        "\n",
        "x_train = x_train / 255\n",
        "x_test = x_test / 255"
      ],
      "execution_count": 0,
      "outputs": []
    },
    {
      "metadata": {
        "id": "LplMft3QFqzo",
        "colab_type": "code",
        "colab": {}
      },
      "cell_type": "code",
      "source": [
        "BATCH_SIZE = 128\n",
        "BUFFER_SIZE = len(x_train)\n",
        "\n",
        "mnist_train = tf.data.Dataset.from_tensor_slices((x_train, y_train)).shuffle(BUFFER_SIZE).batch(BATCH_SIZE)\n",
        "mnist_test = tf.data.Dataset.from_tensor_slices((x_test, y_test)).batch(BATCH_SIZE)"
      ],
      "execution_count": 0,
      "outputs": []
    },
    {
      "metadata": {
        "id": "DvnQSepPFwu3",
        "colab_type": "code",
        "colab": {}
      },
      "cell_type": "code",
      "source": [
        "class MyModel(Model):\n",
        "  def __init__(self):\n",
        "    super(MyModel, self).__init__()\n",
        "    self.flatten = Flatten()\n",
        "    self.d1 = Dense(128, activation='relu')\n",
        "    self.d2 = Dense(10, activation='softmax')\n",
        "\n",
        "  def call(self, x):\n",
        "    x = self.flatten(x)\n",
        "    x = self.d1(x)\n",
        "    return self.d2(x)\n",
        "  \n",
        "model = MyModel()"
      ],
      "execution_count": 0,
      "outputs": []
    },
    {
      "metadata": {
        "id": "7r2WbQEmGIg0",
        "colab_type": "code",
        "colab": {}
      },
      "cell_type": "code",
      "source": [
        "loss_function = tf.keras.losses.SparseCategoricalCrossentropy(from_logits=False)\n",
        "optimizer = tf.keras.optimizers.Adam()"
      ],
      "execution_count": 0,
      "outputs": []
    },
    {
      "metadata": {
        "id": "C-jjpLK-GZIS",
        "colab_type": "code",
        "colab": {}
      },
      "cell_type": "code",
      "source": [
        "train_loss_metric = tf.keras.metrics.Mean(name='train_loss')\n",
        "test_loss_metric = tf.keras.metrics.Mean(name='test_loss')\n",
        "\n",
        "train_accuracy_metric = tf.keras.metrics.SparseCategoricalAccuracy(name='train_accuracy')\n",
        "test_accuracy_metric = tf.keras.metrics.SparseCategoricalAccuracy(name='test_accuracy')"
      ],
      "execution_count": 0,
      "outputs": []
    },
    {
      "metadata": {
        "id": "C2K2EzhMGd8j",
        "colab_type": "code",
        "colab": {}
      },
      "cell_type": "code",
      "source": [
        "def train_step(images, labels):\n",
        "  with tf.GradientTape() as tape:    \n",
        "    # Forward pass\n",
        "    predictions = model(images)\n",
        "    train_loss = loss_function(y_true=labels, y_pred=predictions)\n",
        "  \n",
        "  # Backward pass\n",
        "  gradients = tape.gradient(train_loss, model.trainable_variables)\n",
        "  optimizer.apply_gradients(zip(gradients, model.trainable_variables))\n",
        "\n",
        "  # Record results\n",
        "  train_loss_metric(train_loss)\n",
        "  train_accuracy_metric(labels, predictions)"
      ],
      "execution_count": 0,
      "outputs": []
    },
    {
      "metadata": {
        "id": "9JOgFZxYGgL8",
        "colab_type": "code",
        "colab": {}
      },
      "cell_type": "code",
      "source": [
        "def test_step(images, labels):\n",
        "  predictions = model(images)\n",
        "  test_loss = loss_function(y_true=labels, y_pred=predictions)\n",
        "  \n",
        "  # Record results\n",
        "  test_loss_metric(test_loss)\n",
        "  test_accuracy_metric(labels, predictions)"
      ],
      "execution_count": 0,
      "outputs": []
    },
    {
      "metadata": {
        "id": "6Qvgbs_pGi8S",
        "colab_type": "code",
        "outputId": "aa065e07-5e60-4766-d880-ec588823f62b",
        "colab": {
          "base_uri": "https://localhost:8080/",
          "height": 153
        }
      },
      "cell_type": "code",
      "source": [
        "EPOCHS = 8\n",
        "arr = []\n",
        "test_arr =[]\n",
        "for epoch in range(EPOCHS):\n",
        "  for images, labels in mnist_train:\n",
        "    train_step(images, labels)\n",
        "  \n",
        "  for test_images, test_labels in mnist_test:\n",
        "    test_step(test_images, test_labels)\n",
        "  \n",
        "  arr.append(train_accuracy_metric.result()*100)\n",
        "  test_arr.append(test_accuracy_metric.result() * 100)\n",
        "    \n",
        "  template = 'Epoch {}, Loss: {:.4f}, Accuracy: {:.2f}, Test loss: {:.4f}, Test accuracy: {:.2f}'\n",
        "  print (template.format(epoch +1, \n",
        "                         train_loss_metric.result(), \n",
        "                         train_accuracy_metric.result() * 100, \n",
        "                         test_loss_metric.result(), \n",
        "                         test_accuracy_metric.result() * 100))\n",
        "\n"
      ],
      "execution_count": 0,
      "outputs": [
        {
          "output_type": "stream",
          "text": [
            "Epoch 1, Loss: 0.5544, Accuracy: 81.04, Test loss: 0.4566, Test accuracy: 83.86\n",
            "Epoch 2, Loss: 0.4783, Accuracy: 83.47, Test loss: 0.4333, Test accuracy: 84.66\n",
            "Epoch 3, Loss: 0.4399, Accuracy: 84.71, Test loss: 0.4194, Test accuracy: 84.99\n",
            "Epoch 4, Loss: 0.4143, Accuracy: 85.54, Test loss: 0.4086, Test accuracy: 85.32\n",
            "Epoch 5, Loss: 0.3950, Accuracy: 86.16, Test loss: 0.3999, Test accuracy: 85.62\n",
            "Epoch 6, Loss: 0.3793, Accuracy: 86.67, Test loss: 0.3922, Test accuracy: 85.89\n",
            "Epoch 7, Loss: 0.3663, Accuracy: 87.10, Test loss: 0.3864, Test accuracy: 86.09\n",
            "Epoch 8, Loss: 0.3551, Accuracy: 87.47, Test loss: 0.3816, Test accuracy: 86.26\n"
          ],
          "name": "stdout"
        }
      ]
    },
    {
      "metadata": {
        "id": "iwR6RMqcGnUh",
        "colab_type": "code",
        "outputId": "0f2b6c5f-2f3a-416e-d273-23f8e4ea5c41",
        "colab": {
          "base_uri": "https://localhost:8080/",
          "height": 393
        }
      },
      "cell_type": "code",
      "source": [
        "# Get the number of epochs\n",
        "epochs = range(len(arr))\n",
        "\n",
        "plt.title('Training and validation accuracy')\n",
        "plt.plot(epochs, arr, color='blue', label='Train')\n",
        "plt.plot(epochs, test_arr, color='orange', label='Val')\n",
        "plt.xlabel('Epoch')\n",
        "plt.ylabel('Accuracy')\n",
        "plt.legend()"
      ],
      "execution_count": 53,
      "outputs": [
        {
          "output_type": "execute_result",
          "data": {
            "text/plain": [
              "<matplotlib.legend.Legend at 0x7f156e218898>"
            ]
          },
          "metadata": {
            "tags": []
          },
          "execution_count": 53
        },
        {
          "output_type": "display_data",
          "data": {
            "image/png": "[encoded data removed]",
            "text/plain": [
              "<Figure size 576x396 with 1 Axes>"
            ]
          },
          "metadata": {
            "tags": []
          }
        }
      ]
    }
  ]
}